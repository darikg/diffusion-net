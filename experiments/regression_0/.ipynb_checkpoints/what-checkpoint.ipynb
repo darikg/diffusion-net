{
 "cells": [
  {
   "cell_type": "code",
   "execution_count": 1,
   "id": "64ca9ced-e5e0-4348-8e33-ac59e3ba45e8",
   "metadata": {},
   "outputs": [
    {
     "name": "stderr",
     "output_type": "stream",
     "text": [
      "C:\\Users\\dg\\.conda\\envs\\diffnet4\\lib\\site-packages\\pandas\\core\\computation\\expressions.py:21: UserWarning: Pandas requires version '2.8.4' or newer of 'numexpr' (version '2.7.3' currently installed).\n",
      "  from pandas.core.computation.check import NUMEXPR_INSTALLED\n"
     ]
    }
   ],
   "source": [
    "import os\n",
    "import sys\n",
    "import argparse\n",
    "from pathlib import Path\n",
    "\n",
    "import torch\n",
    "from torch.utils.data import DataLoader\n",
    "from tqdm import tqdm\n",
    "import numpy as np\n",
    "from matplotlib import pyplot as plt\n",
    "sys.path.append(r\"C:\\Users\\dg\\Documents\\python\\diffusion-net\\src\")\n",
    "import diffusion_net\n",
    "from diffusion_net.utils import toNP\n",
    "from ga_dataset import GaDataset, make_model"
   ]
  },
  {
   "cell_type": "code",
   "execution_count": 2,
   "id": "05b142af-f602-4124-94b7-e21aa4231635",
   "metadata": {},
   "outputs": [],
   "source": [
    "device = torch.device('cuda:0')\n",
    "dtype = torch.float32"
   ]
  },
  {
   "cell_type": "code",
   "execution_count": 3,
   "id": "12ac9f39-09c3-4d62-9720-7b9398164732",
   "metadata": {},
   "outputs": [
    {
     "name": "stdout",
     "output_type": "stream",
     "text": [
      "Pre-calculating operators\n"
     ]
    },
    {
     "name": "stderr",
     "output_type": "stream",
     "text": [
      "  0%|                                                                                                                                                                                  | 0/955 [00:00<?, ?it/s]C:\\Users\\dg\\Documents\\python\\diffusion-net\\src\\diffusion_net\\utils.py:55: UserWarning: torch.sparse.SparseTensor(indices, values, shape, *, device=) is deprecated.  Please use torch.sparse_coo_tensor(indices, values, shape, dtype=, device=). (Triggered internally at C:\\cb\\pytorch_1000000000000\\work\\torch\\csrc\\utils\\tensor_new.cpp:623.)\n",
      "  return torch.sparse.FloatTensor(torch.LongTensor(indices), torch.FloatTensor(values), torch.Size(shape)).coalesce()\n",
      "100%|████████████████████████████████████████████████████████████████████████████████████████████████████████████████████████████████████████████████████████████████████████| 955/955 [00:22<00:00, 43.38it/s]\n"
     ]
    }
   ],
   "source": [
    "data_file = r\"C:\\Users\\dg\\Documents\\python\\diffusion-net\\experiments\\regression_0\\data\\run00032_data.hdf\"\n",
    "train_dataset, test_dataset = GaDataset.load_lineages(\n",
    "    data_file=Path(data_file), k_eig=128, channel=13)\n",
    "\n",
    "train_loader = DataLoader(train_dataset,  batch_size=None, shuffle=True)\n",
    "test_loader = DataLoader(test_dataset, batch_size=None)"
   ]
  },
  {
   "cell_type": "code",
   "execution_count": 4,
   "id": "936562d0-1ccd-4608-8325-266cc235de97",
   "metadata": {},
   "outputs": [],
   "source": [
    "model = make_model(3)\n",
    "model.load_state_dict(torch.load(r\"C:\\Users\\dg\\Documents\\python\\diffusion-net\\experiments\\regression_0\\data\\trained.pth\"))\n",
    "model.eval()\n",
    "_ = model.to(device)"
   ]
  },
  {
   "cell_type": "code",
   "execution_count": 5,
   "id": "bfa26b45-7841-45dc-88ce-19924a30d597",
   "metadata": {},
   "outputs": [],
   "source": [
    "def get_predictions(input_features, loader):\n",
    "    all_preds = []\n",
    "    \n",
    "    model.eval()\n",
    "    with torch.no_grad():\n",
    "        for data in tqdm(loader):\n",
    "            # Get data\n",
    "            verts, faces, frames, mass, L, evals, evecs, gradX, gradY, labels = data\n",
    "\n",
    "            # Move to device\n",
    "            verts = verts.to(device)\n",
    "            faces = faces.to(device)\n",
    "            frames = frames.to(device)\n",
    "            mass = mass.to(device)\n",
    "            L = L.to(device)\n",
    "            evals = evals.to(device)\n",
    "            evecs = evecs.to(device)\n",
    "            gradX = gradX.to(device)\n",
    "            gradY = gradY.to(device)\n",
    "            labels = labels.to(device)\n",
    "            \n",
    "            # Construct features\n",
    "            if input_features == 'xyz':\n",
    "                features = verts\n",
    "            elif input_features == 'hks':\n",
    "                features = diffusion_net.geometry.compute_hks_autoscale(evals, evecs, 16)\n",
    "\n",
    "            # Apply the model\n",
    "            preds = model(features, mass, L=L, evals=evals, evecs=evecs, gradX=gradX, gradY=gradY, faces=faces)\n",
    "            all_preds.append(preds.item())\n",
    "        \n",
    "    return all_preds    "
   ]
  },
  {
   "cell_type": "code",
   "execution_count": 6,
   "id": "679df674-3ba0-49ec-b9c3-ac1ab1d783c1",
   "metadata": {},
   "outputs": [
    {
     "name": "stderr",
     "output_type": "stream",
     "text": [
      "100%|████████████████████████████████████████████████████████████████████████████████████████████████████████████████████████████████████████████████████████████████████████| 460/460 [00:08<00:00, 52.36it/s]\n"
     ]
    }
   ],
   "source": [
    "preds = get_predictions('xyz', train_loader)"
   ]
  },
  {
   "cell_type": "code",
   "execution_count": 7,
   "id": "bc4b2507-9d85-42ab-88f8-ca46d5f26880",
   "metadata": {},
   "outputs": [
    {
     "data": {
      "text/plain": [
       "[<matplotlib.lines.Line2D at 0x2714e730130>]"
      ]
     },
     "execution_count": 7,
     "metadata": {},
     "output_type": "execute_result"
    },
    {
     "data": {
      "image/png": "[encoded data removed]",
      "text/plain": [
       "<Figure size 640x480 with 1 Axes>"
      ]
     },
     "metadata": {},
     "output_type": "display_data"
    }
   ],
   "source": [
    "plt.plot(train_dataset.df.response.values, preds, 'k.')"
   ]
  },
  {
   "cell_type": "code",
   "execution_count": 9,
   "id": "97d03ca6-0573-4ce6-a467-2dc9b775cdf6",
   "metadata": {},
   "outputs": [
    {
     "data": {
      "text/plain": [
       "287.7843485400701"
      ]
     },
     "execution_count": 9,
     "metadata": {},
     "output_type": "execute_result"
    }
   ],
   "source": [
    "from numpy import array, sqrt\n",
    "((array(preds) - train_dataset.df.response.values) ** 2).mean()"
   ]
  }
 ],
 "metadata": {
  "kernelspec": {
   "display_name": "Python 3 (ipykernel)",
   "language": "python",
   "name": "python3"
  },
  "language_info": {
   "codemirror_mode": {
    "name": "ipython",
    "version": 3
   },
   "file_extension": ".py",
   "mimetype": "text/x-python",
   "name": "python",
   "nbconvert_exporter": "python",
   "pygments_lexer": "ipython3",
   "version": "3.10.14"
  }
 },
 "nbformat": 4,
 "nbformat_minor": 5
}
