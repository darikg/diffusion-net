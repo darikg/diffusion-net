{
 "cells": [
  {
   "cell_type": "code",
   "execution_count": 1,
   "id": "086221fc-1b4d-413c-a5c4-a8513394dab2",
   "metadata": {},
   "outputs": [
    {
     "name": "stderr",
     "output_type": "stream",
     "text": [
      "C:\\Users\\dg\\.conda\\envs\\diffnet4\\lib\\site-packages\\pandas\\core\\computation\\expressions.py:21: UserWarning: Pandas requires version '2.8.4' or newer of 'numexpr' (version '2.7.3' currently installed).\n",
      "  from pandas.core.computation.check import NUMEXPR_INSTALLED\n"
     ]
    }
   ],
   "source": [
    "from ga_regression import *\n",
    "from matplotlib import pyplot as plt\n",
    "from functools import partial\n",
    "import PIL\n",
    "import matplotlib as mpl\n",
    "from matplotlib.cm import ScalarMappable\n",
    "from pvutils import iter_subplots\n",
    "from pyvista import PolyData\n",
    "import pyvista as pv\n",
    "from scipy.stats import pearsonr"
   ]
  },
  {
   "cell_type": "code",
   "execution_count": 2,
   "id": "bb34297d-3828-46f3-bf09-334e8b71e433",
   "metadata": {},
   "outputs": [],
   "source": [
    "file = Path(r\"D:\\resynth\\run_48_49\\many_faces\\2025-07-14-17-10-07\\opts_and_metadata.pt\")\n",
    "d = torch.load(file)\n",
    "metas = d['metadata']\n",
    "opts = d['opts']\n",
    "train_scenes, test_scenes = d['train_scenes'], d['test_scenes']"
   ]
  },
  {
   "cell_type": "code",
   "execution_count": 5,
   "id": "0118dac8-688a-4c95-a3a0-f51503f2d8db",
   "metadata": {},
   "outputs": [
    {
     "data": {
      "text/plain": [
       "<ga_regression.Readers at 0x1fe2ece7af0>"
      ]
     },
     "execution_count": 5,
     "metadata": {},
     "output_type": "execute_result"
    }
   ],
   "source": [
    "readers = self = Readers([m.reader() for m in metas])"
   ]
  },
  {
   "cell_type": "code",
   "execution_count": 12,
   "id": "d29d2461-d089-45e1-9c26-c111a00bcfb1",
   "metadata": {},
   "outputs": [
    {
     "data": {
      "text/plain": [
       "log_folder         object\n",
       "model_file         object\n",
       "metadata_file      object\n",
       "input_features     object\n",
       "channel            object\n",
       "k_eig               int64\n",
       "learning_rate     float64\n",
       "decay_every         int64\n",
       "decay_rate        float64\n",
       "dropout              bool\n",
       "n_faces             int64\n",
       "spike_window       object\n",
       "weight_error       object\n",
       "dtype: object"
      ]
     },
     "execution_count": 12,
     "metadata": {},
     "output_type": "execute_result"
    }
   ],
   "source": [
    "readers.hparams.dtypes"
   ]
  },
  {
   "cell_type": "code",
   "execution_count": 15,
   "id": "7b2429a1-b318-4056-bb45-8a3d54383dbe",
   "metadata": {},
   "outputs": [
    {
     "data": {
      "text/plain": [
       "['n_faces']"
      ]
     },
     "execution_count": 15,
     "metadata": {},
     "output_type": "execute_result"
    }
   ],
   "source": [
    "exclude = ()\n",
    "tags = [\n",
    "    k for k, v in self.hparams.items()\n",
    "    if len(set(v)) > 1 and k not in exclude and v.dtype != 'object'\n",
    "]\n",
    "tags"
   ]
  },
  {
   "cell_type": "code",
   "execution_count": 13,
   "id": "6a87a8a8-547b-40e4-a829-697b3cd42630",
   "metadata": {},
   "outputs": [
    {
     "data": {
      "text/html": [
       "<div>\n",
       "<style scoped>\n",
       "    .dataframe tbody tr th:only-of-type {\n",
       "        vertical-align: middle;\n",
       "    }\n",
       "\n",
       "    .dataframe tbody tr th {\n",
       "        vertical-align: top;\n",
       "    }\n",
       "\n",
       "    .dataframe thead th {\n",
       "        text-align: right;\n",
       "    }\n",
       "</style>\n",
       "<table border=\"1\" class=\"dataframe\">\n",
       "  <thead>\n",
       "    <tr style=\"text-align: right;\">\n",
       "      <th></th>\n",
       "      <th>log_folder</th>\n",
       "      <th>model_file</th>\n",
       "      <th>metadata_file</th>\n",
       "      <th>input_features</th>\n",
       "      <th>channel</th>\n",
       "      <th>k_eig</th>\n",
       "      <th>learning_rate</th>\n",
       "      <th>decay_every</th>\n",
       "      <th>decay_rate</th>\n",
       "      <th>dropout</th>\n",
       "      <th>n_faces</th>\n",
       "      <th>spike_window</th>\n",
       "      <th>weight_error</th>\n",
       "    </tr>\n",
       "  </thead>\n",
       "  <tbody>\n",
       "    <tr>\n",
       "      <th>0</th>\n",
       "      <td>D:\\resynth\\run_48_49\\many_faces\\2025-07-14-17-...</td>\n",
       "      <td>D:\\resynth\\run_48_49\\many_faces\\2025-07-14-17-...</td>\n",
       "      <td>D:\\resynth\\run_48_49\\many_faces\\2025-07-14-17-...</td>\n",
       "      <td>hks</td>\n",
       "      <td>(14, 17, 29, 23, 2, 0, 13, 31, 3, 26, 28, 9, 2...</td>\n",
       "      <td>128</td>\n",
       "      <td>0.000063</td>\n",
       "      <td>50</td>\n",
       "      <td>0.5</td>\n",
       "      <td>True</td>\n",
       "      <td>1500</td>\n",
       "      <td>(0.07, 0.75)</td>\n",
       "      <td>response</td>\n",
       "    </tr>\n",
       "    <tr>\n",
       "      <th>1</th>\n",
       "      <td>D:\\resynth\\run_48_49\\many_faces\\2025-07-14-17-...</td>\n",
       "      <td>D:\\resynth\\run_48_49\\many_faces\\2025-07-14-17-...</td>\n",
       "      <td>D:\\resynth\\run_48_49\\many_faces\\2025-07-14-17-...</td>\n",
       "      <td>hks</td>\n",
       "      <td>(14, 17, 29, 23, 2, 0, 13, 31, 3, 26, 28, 9, 2...</td>\n",
       "      <td>128</td>\n",
       "      <td>0.000063</td>\n",
       "      <td>50</td>\n",
       "      <td>0.5</td>\n",
       "      <td>True</td>\n",
       "      <td>1250</td>\n",
       "      <td>(0.07, 0.75)</td>\n",
       "      <td>response</td>\n",
       "    </tr>\n",
       "    <tr>\n",
       "      <th>2</th>\n",
       "      <td>D:\\resynth\\run_48_49\\many_faces\\2025-07-14-17-...</td>\n",
       "      <td>D:\\resynth\\run_48_49\\many_faces\\2025-07-14-17-...</td>\n",
       "      <td>D:\\resynth\\run_48_49\\many_faces\\2025-07-14-17-...</td>\n",
       "      <td>hks</td>\n",
       "      <td>(14, 17, 29, 23, 2, 0, 13, 31, 3, 26, 28, 9, 2...</td>\n",
       "      <td>128</td>\n",
       "      <td>0.000063</td>\n",
       "      <td>50</td>\n",
       "      <td>0.5</td>\n",
       "      <td>True</td>\n",
       "      <td>1000</td>\n",
       "      <td>(0.07, 0.75)</td>\n",
       "      <td>response</td>\n",
       "    </tr>\n",
       "    <tr>\n",
       "      <th>3</th>\n",
       "      <td>D:\\resynth\\run_48_49\\many_faces\\2025-07-14-17-...</td>\n",
       "      <td>D:\\resynth\\run_48_49\\many_faces\\2025-07-14-17-...</td>\n",
       "      <td>D:\\resynth\\run_48_49\\many_faces\\2025-07-14-17-...</td>\n",
       "      <td>hks</td>\n",
       "      <td>(14, 17, 29, 23, 2, 0, 13, 31, 3, 26, 28, 9, 2...</td>\n",
       "      <td>128</td>\n",
       "      <td>0.000063</td>\n",
       "      <td>50</td>\n",
       "      <td>0.5</td>\n",
       "      <td>True</td>\n",
       "      <td>750</td>\n",
       "      <td>(0.07, 0.75)</td>\n",
       "      <td>response</td>\n",
       "    </tr>\n",
       "    <tr>\n",
       "      <th>4</th>\n",
       "      <td>D:\\resynth\\run_48_49\\many_faces\\2025-07-14-17-...</td>\n",
       "      <td>D:\\resynth\\run_48_49\\many_faces\\2025-07-14-17-...</td>\n",
       "      <td>D:\\resynth\\run_48_49\\many_faces\\2025-07-14-17-...</td>\n",
       "      <td>hks</td>\n",
       "      <td>(14, 17, 29, 23, 2, 0, 13, 31, 3, 26, 28, 9, 2...</td>\n",
       "      <td>128</td>\n",
       "      <td>0.000063</td>\n",
       "      <td>50</td>\n",
       "      <td>0.5</td>\n",
       "      <td>True</td>\n",
       "      <td>500</td>\n",
       "      <td>(0.07, 0.75)</td>\n",
       "      <td>response</td>\n",
       "    </tr>\n",
       "  </tbody>\n",
       "</table>\n",
       "</div>"
      ],
      "text/plain": [
       "                                          log_folder  \\\n",
       "0  D:\\resynth\\run_48_49\\many_faces\\2025-07-14-17-...   \n",
       "1  D:\\resynth\\run_48_49\\many_faces\\2025-07-14-17-...   \n",
       "2  D:\\resynth\\run_48_49\\many_faces\\2025-07-14-17-...   \n",
       "3  D:\\resynth\\run_48_49\\many_faces\\2025-07-14-17-...   \n",
       "4  D:\\resynth\\run_48_49\\many_faces\\2025-07-14-17-...   \n",
       "\n",
       "                                          model_file  \\\n",
       "0  D:\\resynth\\run_48_49\\many_faces\\2025-07-14-17-...   \n",
       "1  D:\\resynth\\run_48_49\\many_faces\\2025-07-14-17-...   \n",
       "2  D:\\resynth\\run_48_49\\many_faces\\2025-07-14-17-...   \n",
       "3  D:\\resynth\\run_48_49\\many_faces\\2025-07-14-17-...   \n",
       "4  D:\\resynth\\run_48_49\\many_faces\\2025-07-14-17-...   \n",
       "\n",
       "                                       metadata_file input_features  \\\n",
       "0  D:\\resynth\\run_48_49\\many_faces\\2025-07-14-17-...            hks   \n",
       "1  D:\\resynth\\run_48_49\\many_faces\\2025-07-14-17-...            hks   \n",
       "2  D:\\resynth\\run_48_49\\many_faces\\2025-07-14-17-...            hks   \n",
       "3  D:\\resynth\\run_48_49\\many_faces\\2025-07-14-17-...            hks   \n",
       "4  D:\\resynth\\run_48_49\\many_faces\\2025-07-14-17-...            hks   \n",
       "\n",
       "                                             channel  k_eig  learning_rate  \\\n",
       "0  (14, 17, 29, 23, 2, 0, 13, 31, 3, 26, 28, 9, 2...    128       0.000063   \n",
       "1  (14, 17, 29, 23, 2, 0, 13, 31, 3, 26, 28, 9, 2...    128       0.000063   \n",
       "2  (14, 17, 29, 23, 2, 0, 13, 31, 3, 26, 28, 9, 2...    128       0.000063   \n",
       "3  (14, 17, 29, 23, 2, 0, 13, 31, 3, 26, 28, 9, 2...    128       0.000063   \n",
       "4  (14, 17, 29, 23, 2, 0, 13, 31, 3, 26, 28, 9, 2...    128       0.000063   \n",
       "\n",
       "   decay_every  decay_rate  dropout  n_faces  spike_window weight_error  \n",
       "0           50         0.5     True     1500  (0.07, 0.75)     response  \n",
       "1           50         0.5     True     1250  (0.07, 0.75)     response  \n",
       "2           50         0.5     True     1000  (0.07, 0.75)     response  \n",
       "3           50         0.5     True      750  (0.07, 0.75)     response  \n",
       "4           50         0.5     True      500  (0.07, 0.75)     response  "
      ]
     },
     "execution_count": 13,
     "metadata": {},
     "output_type": "execute_result"
    }
   ],
   "source": [
    "readers.hparams"
   ]
  },
  {
   "cell_type": "code",
   "execution_count": 28,
   "id": "9b087a30-67da-4701-bd49-2f2b8d55ac16",
   "metadata": {},
   "outputs": [
    {
     "data": {
      "text/plain": [
       "True"
      ]
     },
     "execution_count": 28,
     "metadata": {},
     "output_type": "execute_result"
    }
   ],
   "source": [
    "# TODO Scatter plotts"
   ]
  }
 ],
 "metadata": {
  "kernelspec": {
   "display_name": "Python 3 (ipykernel)",
   "language": "python",
   "name": "python3"
  },
  "language_info": {
   "codemirror_mode": {
    "name": "ipython",
    "version": 3
   },
   "file_extension": ".py",
   "mimetype": "text/x-python",
   "name": "python",
   "nbconvert_exporter": "python",
   "pygments_lexer": "ipython3",
   "version": "3.10.14"
  }
 },
 "nbformat": 4,
 "nbformat_minor": 5
}
