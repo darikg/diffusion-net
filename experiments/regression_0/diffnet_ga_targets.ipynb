{
 "cells": [
  {
   "cell_type": "code",
   "execution_count": 1,
   "id": "7bac6937-1881-45ab-b2cc-5ce6cb2def0e",
   "metadata": {},
   "outputs": [
    {
     "name": "stderr",
     "output_type": "stream",
     "text": [
      "C:\\Users\\dg\\.conda\\envs\\diffnet4\\lib\\site-packages\\pandas\\core\\computation\\expressions.py:21: UserWarning: Pandas requires version '2.8.4' or newer of 'numexpr' (version '2.7.3' currently installed).\n",
      "  from pandas.core.computation.check import NUMEXPR_INSTALLED\n"
     ]
    }
   ],
   "source": [
    "from ga_regression import *\n",
    "from ga_dataset import *\n",
    "from matplotlib import pyplot as plt\n",
    "from functools import partial\n",
    "import PIL\n",
    "import matplotlib as mpl\n",
    "from matplotlib.cm import ScalarMappable\n",
    "from pvutils import iter_subplots\n",
    "from pyvista import PolyData\n",
    "import pyvista as pv\n",
    "from scipy.stats import pearsonr"
   ]
  },
  {
   "cell_type": "code",
   "execution_count": 101,
   "id": "7bf95587-def4-40c9-85fd-011e1dd8c082",
   "metadata": {},
   "outputs": [],
   "source": [
    "@dataclass\n",
    "class SourceModel:\n",
    "    trained_file: str\n",
    "    trained_idx: int\n",
    "    cp_data_file: str\n",
    "\n",
    "    def load_corpus_data(\n",
    "        self,\n",
    "        model_idx: int,\n",
    "    ):\n",
    "        reader = Readers.from_file(self.trained_file)[self.trained_idx]\n",
    "        \n",
    "        ga_ndata = NeurophysData.load_data(\n",
    "            data_file=reader.metadata.opts.data_file,\n",
    "            file_mode=reader.metadata.opts.mesh_file_mode,\n",
    "            spike_window=reader.metadata.spike_window,\n",
    "            n_faces=reader.metadata.n_faces,\n",
    "            features=None,\n",
    "            n_min_reps=3,\n",
    "        )\n",
    "    \n",
    "        ga_responses = ga_ndata.responses.loc[:, reader.metadata.channel]\n",
    "        ga_r_min = ga_responses.min(axis=0)\n",
    "        ga_r_max = ga_responses.max(axis=0)\n",
    "    \n",
    "        cp_ndata = NeurophysData.load_data(\n",
    "            data_file=self.cp_data_file,\n",
    "            file_mode='thumbnail',\n",
    "            spike_window=reader.metadata.spike_window,\n",
    "            n_faces=None,\n",
    "            features=None,\n",
    "            n_min_reps=None,\n",
    "        )\n",
    "    \n",
    "        # Normalize to ga min/max\n",
    "        cp_responses = (cp_ndata.responses.loc[:, reader.metadata.channel] - ga_r_min) / (ga_r_max - ga_r_min)\n",
    "        cp_responses.replace([np.inf, -np.inf], 0, inplace=True)\n",
    "    \n",
    "        # Replace scene ids with filenames\n",
    "        cp_responses = cp_responses.set_index(cp_ndata.scenes.filename.loc[cp_responses.index])\n",
    "    \n",
    "        # Update column indices\n",
    "        tuples = [(model_idx, i) for i in range(len(reader.metadata.channel))]\n",
    "        cp_responses.columns = pd.MultiIndex.from_tuples(tuples, names=[\"model_idx\", \"channel_idx\"])\n",
    "        return cp_responses.fillna(0)\n"
   ]
  },
  {
   "cell_type": "code",
   "execution_count": 102,
   "id": "598ea7f5-7dc8-4b75-9712-c7f8556a285b",
   "metadata": {},
   "outputs": [],
   "source": [
    "models = [\n",
    "    SourceModel(\n",
    "        trained_file=r\"D:\\resynth\\run_09_10\\run00009_resynth\\2025-08-08-12-28-22\\opts_and_metadata.pt\",\n",
    "        trained_idx=5,\n",
    "        cp_data_file=r\"D:\\resynth\\run_09_10\\run00010_exported\\run00010_exported.hdf\",\n",
    "    ),\n",
    "    SourceModel(\n",
    "        trained_file=r\"D:\\resynth\\run_20_21\\run00020_resynth\\2025-08-09-07-18-37\\opts_and_metadata.pt\",\n",
    "        trained_idx=5,\n",
    "        cp_data_file=r\"D:\\resynth\\run_20_21\\run00021_exported\\run00021_exported.hdf\",\n",
    "    ),\n",
    "    SourceModel(\n",
    "        trained_file=r\"D:\\resynth\\run_38_39\\run00038_resynth\\2025-08-09-17-21-56\\opts_and_metadata.pt\",\n",
    "        trained_idx=5,\n",
    "        cp_data_file=r\"D:\\resynth\\run_38_39\\run00039_exported\\run00039_exported.hdf\",\n",
    "    ),\n",
    "    SourceModel(\n",
    "        trained_file=r\"D:\\resynth\\run_42_43\\run00042_resynth\\2025-08-10-07-01-41\\opts_and_metadata.pt\",\n",
    "        trained_idx=5,\n",
    "        cp_data_file=r\"D:\\resynth\\run_42_43\\run00043_exported\\run00043_exported.hdf\",\n",
    "    ),\n",
    "    SourceModel(\n",
    "        trained_file=r\"D:\\resynth\\run_48_49\\run00048_resynth\\2025-08-11-06-09-16\\opts_and_metadata.pt\",\n",
    "        trained_idx=5,\n",
    "        cp_data_file=r\"D:\\resynth\\run_48_49\\run00049_exported\\run00049_exported.hdf\",\n",
    "    ),\n",
    "    SourceModel(\n",
    "        trained_file=r\"D:\\resynth\\run_51_52\\run00051_resynth\\2025-08-07-12-07-53\\opts_and_metadata.pt\",\n",
    "        trained_idx=5,\n",
    "        cp_data_file=r\"D:\\resynth\\run_51_52\\run00052_exported\\run00052_exported.hdf\",\n",
    "    ),\n",
    "]\n",
    "cp_responses = pd.concat([\n",
    "    tm.load_corpus_data(model_idx=i)\n",
    "    for i, tm in enumerate(models)\n",
    "], axis=1)\n",
    "\n",
    "cp_responses = cp_responses.dropna()  # bah"
   ]
  },
  {
   "cell_type": "code",
   "execution_count": 103,
   "id": "ff1a96eb-fbca-46c9-9de0-f86e96297511",
   "metadata": {},
   "outputs": [],
   "source": [
    "mag = cp_responses.sum(axis=1)\n",
    "best_stim = cp_responses.iloc[mag.argmax()]"
   ]
  },
  {
   "cell_type": "code",
   "execution_count": 104,
   "id": "32904803-9838-4792-bcf3-3b7feeb36e26",
   "metadata": {},
   "outputs": [
    {
     "name": "stdout",
     "output_type": "stream",
     "text": [
      "    - (): cemetery.diffnet.TrainedModel\n",
      "      file: 'D:\\resynth\\run_09_10\\run00009_resynth\\2025-08-08-12-28-22\\opts_and_metadata.pt'\n",
      "      idx: 5\n",
      "      target: [0.0556, 0.5128, 0.0000, 0.7288, 0.7627, 0.9767, 0.1111, 0.0417, 0.4667, 0.3333]\n",
      "    - (): cemetery.diffnet.TrainedModel\n",
      "      file: 'D:\\resynth\\run_20_21\\run00020_resynth\\2025-08-09-07-18-37\\opts_and_metadata.pt'\n",
      "      idx: 5\n",
      "      target: [0.4638, 0.4918, 0.0000, 0.0388, 0.2182, 1.2889, 0.1852, 0.7455, 0.3400, 0.5111, 0.3448, 0.1667, 0.3714, 0.1053, 0.9259, 0.4500, 0.4167, 0.9286, 0.4545, 1.5769]\n",
      "    - (): cemetery.diffnet.TrainedModel\n",
      "      file: 'D:\\resynth\\run_38_39\\run00038_resynth\\2025-08-09-17-21-56\\opts_and_metadata.pt'\n",
      "      idx: 5\n",
      "      target: [0.7292, 1.0625, 0.6087, 0.3333, 0.6389, 0.8000, 0.6250, 0.9200, 0.0476, 0.4444, 0.7778, 0.3636, 0.5000, 0.3529]\n",
      "    - (): cemetery.diffnet.TrainedModel\n",
      "      file: 'D:\\resynth\\run_42_43\\run00042_resynth\\2025-08-10-07-01-41\\opts_and_metadata.pt'\n",
      "      idx: 5\n",
      "      target: [0.0000, 0.2000, 0.0000, 0.0000, 0.0000, 0.0000, 0.0000, 0.0000, 0.0000, 0.1333, 0.9464, 0.3115, 0.2222, 0.0625, 0.2297]\n",
      "    - (): cemetery.diffnet.TrainedModel\n",
      "      file: 'D:\\resynth\\run_48_49\\run00048_resynth\\2025-08-11-06-09-16\\opts_and_metadata.pt'\n",
      "      idx: 5\n",
      "      target: [0.6033, 0.3094, 0.7978, 0.4508, 0.2692, 0.8000, 0.3594, 0.2632, 0.0962, 0.1667, 0.0000, 0.0345, 0.6190, 0.1429, 0.4000]\n",
      "    - (): cemetery.diffnet.TrainedModel\n",
      "      file: 'D:\\resynth\\run_51_52\\run00051_resynth\\2025-08-07-12-07-53\\opts_and_metadata.pt'\n",
      "      idx: 5\n",
      "      target: [0.1024, 0.0875, 0.1000, 0.0196, 0.1481, 0.0952, 0.0469, 0.0476, 0.1250, 0.0909, 0.0000, 0.9000, 0.0000, 0.0000]\n"
     ]
    }
   ],
   "source": [
    "for tm, (model_idx, target) in zip(models, best_stim.groupby('model_idx')):\n",
    "    s = f\"\"\"\n",
    "    - (): cemetery.diffnet.TrainedModel\n",
    "      file: '{tm.trained_file}'\n",
    "      idx: {tm.trained_idx}\n",
    "      target: [{', '.join(f'{x:.04f}' for x in target.values)}]\"\"\"\n",
    "    print(s[1:])"
   ]
  },
  {
   "cell_type": "code",
   "execution_count": 100,
   "id": "3676d68a-aba5-440f-ad2a-49378533c2aa",
   "metadata": {},
   "outputs": [
    {
     "ename": "ValueError",
     "evalue": "Input X contains infinity or a value too large for dtype('float64').",
     "output_type": "error",
     "traceback": [
      "\u001b[1;31m---------------------------------------------------------------------------\u001b[0m",
      "\u001b[1;31mValueError\u001b[0m                                Traceback (most recent call last)",
      "Cell \u001b[1;32mIn[100], line 4\u001b[0m\n\u001b[0;32m      2\u001b[0m \u001b[38;5;28;01mfrom\u001b[39;00m \u001b[38;5;21;01msklearn\u001b[39;00m\u001b[38;5;21;01m.\u001b[39;00m\u001b[38;5;21;01mdecomposition\u001b[39;00m \u001b[38;5;28;01mimport\u001b[39;00m PCA\n\u001b[0;32m      3\u001b[0m pca \u001b[38;5;241m=\u001b[39m PCA(n_components\u001b[38;5;241m=\u001b[39m\u001b[38;5;241m2\u001b[39m)\n\u001b[1;32m----> 4\u001b[0m \u001b[43mpca\u001b[49m\u001b[38;5;241;43m.\u001b[39;49m\u001b[43mfit\u001b[49m\u001b[43m(\u001b[49m\u001b[43mcp_responses\u001b[49m\u001b[43m)\u001b[49m;\n\u001b[0;32m      6\u001b[0m x \u001b[38;5;241m=\u001b[39m pca\u001b[38;5;241m.\u001b[39mtransform(cp_responses)\n\u001b[0;32m      7\u001b[0m plt\u001b[38;5;241m.\u001b[39mscatter(x[:, \u001b[38;5;241m0\u001b[39m], x[:, \u001b[38;5;241m1\u001b[39m], \u001b[38;5;241m12\u001b[39m, mag)\n",
      "File \u001b[1;32m~\\.conda\\envs\\diffnet4\\lib\\site-packages\\sklearn\\base.py:1474\u001b[0m, in \u001b[0;36m_fit_context.<locals>.decorator.<locals>.wrapper\u001b[1;34m(estimator, *args, **kwargs)\u001b[0m\n\u001b[0;32m   1467\u001b[0m     estimator\u001b[38;5;241m.\u001b[39m_validate_params()\n\u001b[0;32m   1469\u001b[0m \u001b[38;5;28;01mwith\u001b[39;00m config_context(\n\u001b[0;32m   1470\u001b[0m     skip_parameter_validation\u001b[38;5;241m=\u001b[39m(\n\u001b[0;32m   1471\u001b[0m         prefer_skip_nested_validation \u001b[38;5;129;01mor\u001b[39;00m global_skip_validation\n\u001b[0;32m   1472\u001b[0m     )\n\u001b[0;32m   1473\u001b[0m ):\n\u001b[1;32m-> 1474\u001b[0m     \u001b[38;5;28;01mreturn\u001b[39;00m fit_method(estimator, \u001b[38;5;241m*\u001b[39margs, \u001b[38;5;241m*\u001b[39m\u001b[38;5;241m*\u001b[39mkwargs)\n",
      "File \u001b[1;32m~\\.conda\\envs\\diffnet4\\lib\\site-packages\\sklearn\\decomposition\\_pca.py:428\u001b[0m, in \u001b[0;36mPCA.fit\u001b[1;34m(self, X, y)\u001b[0m\n\u001b[0;32m    410\u001b[0m \u001b[38;5;129m@_fit_context\u001b[39m(prefer_skip_nested_validation\u001b[38;5;241m=\u001b[39m\u001b[38;5;28;01mTrue\u001b[39;00m)\n\u001b[0;32m    411\u001b[0m \u001b[38;5;28;01mdef\u001b[39;00m \u001b[38;5;21mfit\u001b[39m(\u001b[38;5;28mself\u001b[39m, X, y\u001b[38;5;241m=\u001b[39m\u001b[38;5;28;01mNone\u001b[39;00m):\n\u001b[0;32m    412\u001b[0m \u001b[38;5;250m    \u001b[39m\u001b[38;5;124;03m\"\"\"Fit the model with X.\u001b[39;00m\n\u001b[0;32m    413\u001b[0m \n\u001b[0;32m    414\u001b[0m \u001b[38;5;124;03m    Parameters\u001b[39;00m\n\u001b[1;32m   (...)\u001b[0m\n\u001b[0;32m    426\u001b[0m \u001b[38;5;124;03m        Returns the instance itself.\u001b[39;00m\n\u001b[0;32m    427\u001b[0m \u001b[38;5;124;03m    \"\"\"\u001b[39;00m\n\u001b[1;32m--> 428\u001b[0m     \u001b[38;5;28;43mself\u001b[39;49m\u001b[38;5;241;43m.\u001b[39;49m\u001b[43m_fit\u001b[49m\u001b[43m(\u001b[49m\u001b[43mX\u001b[49m\u001b[43m)\u001b[49m\n\u001b[0;32m    429\u001b[0m     \u001b[38;5;28;01mreturn\u001b[39;00m \u001b[38;5;28mself\u001b[39m\n",
      "File \u001b[1;32m~\\.conda\\envs\\diffnet4\\lib\\site-packages\\sklearn\\decomposition\\_pca.py:483\u001b[0m, in \u001b[0;36mPCA._fit\u001b[1;34m(self, X)\u001b[0m\n\u001b[0;32m    478\u001b[0m \u001b[38;5;28;01mif\u001b[39;00m \u001b[38;5;28mself\u001b[39m\u001b[38;5;241m.\u001b[39msvd_solver \u001b[38;5;241m==\u001b[39m \u001b[38;5;124m\"\u001b[39m\u001b[38;5;124marpack\u001b[39m\u001b[38;5;124m\"\u001b[39m \u001b[38;5;129;01mand\u001b[39;00m is_array_api_compliant:\n\u001b[0;32m    479\u001b[0m     \u001b[38;5;28;01mraise\u001b[39;00m \u001b[38;5;167;01mValueError\u001b[39;00m(\n\u001b[0;32m    480\u001b[0m         \u001b[38;5;124m\"\u001b[39m\u001b[38;5;124mPCA with svd_solver=\u001b[39m\u001b[38;5;124m'\u001b[39m\u001b[38;5;124marpack\u001b[39m\u001b[38;5;124m'\u001b[39m\u001b[38;5;124m is not supported for Array API inputs.\u001b[39m\u001b[38;5;124m\"\u001b[39m\n\u001b[0;32m    481\u001b[0m     )\n\u001b[1;32m--> 483\u001b[0m X \u001b[38;5;241m=\u001b[39m \u001b[38;5;28;43mself\u001b[39;49m\u001b[38;5;241;43m.\u001b[39;49m\u001b[43m_validate_data\u001b[49m\u001b[43m(\u001b[49m\n\u001b[0;32m    484\u001b[0m \u001b[43m    \u001b[49m\u001b[43mX\u001b[49m\u001b[43m,\u001b[49m\n\u001b[0;32m    485\u001b[0m \u001b[43m    \u001b[49m\u001b[43mdtype\u001b[49m\u001b[38;5;241;43m=\u001b[39;49m\u001b[43m[\u001b[49m\u001b[43mxp\u001b[49m\u001b[38;5;241;43m.\u001b[39;49m\u001b[43mfloat64\u001b[49m\u001b[43m,\u001b[49m\u001b[43m \u001b[49m\u001b[43mxp\u001b[49m\u001b[38;5;241;43m.\u001b[39;49m\u001b[43mfloat32\u001b[49m\u001b[43m]\u001b[49m\u001b[43m,\u001b[49m\n\u001b[0;32m    486\u001b[0m \u001b[43m    \u001b[49m\u001b[43maccept_sparse\u001b[49m\u001b[38;5;241;43m=\u001b[39;49m\u001b[43m(\u001b[49m\u001b[38;5;124;43m\"\u001b[39;49m\u001b[38;5;124;43mcsr\u001b[39;49m\u001b[38;5;124;43m\"\u001b[39;49m\u001b[43m,\u001b[49m\u001b[43m \u001b[49m\u001b[38;5;124;43m\"\u001b[39;49m\u001b[38;5;124;43mcsc\u001b[39;49m\u001b[38;5;124;43m\"\u001b[39;49m\u001b[43m)\u001b[49m\u001b[43m,\u001b[49m\n\u001b[0;32m    487\u001b[0m \u001b[43m    \u001b[49m\u001b[43mensure_2d\u001b[49m\u001b[38;5;241;43m=\u001b[39;49m\u001b[38;5;28;43;01mTrue\u001b[39;49;00m\u001b[43m,\u001b[49m\n\u001b[0;32m    488\u001b[0m \u001b[43m    \u001b[49m\u001b[43mcopy\u001b[49m\u001b[38;5;241;43m=\u001b[39;49m\u001b[38;5;28;43mself\u001b[39;49m\u001b[38;5;241;43m.\u001b[39;49m\u001b[43mcopy\u001b[49m\u001b[43m,\u001b[49m\n\u001b[0;32m    489\u001b[0m \u001b[43m\u001b[49m\u001b[43m)\u001b[49m\n\u001b[0;32m    491\u001b[0m \u001b[38;5;66;03m# Handle n_components==None\u001b[39;00m\n\u001b[0;32m    492\u001b[0m \u001b[38;5;28;01mif\u001b[39;00m \u001b[38;5;28mself\u001b[39m\u001b[38;5;241m.\u001b[39mn_components \u001b[38;5;129;01mis\u001b[39;00m \u001b[38;5;28;01mNone\u001b[39;00m:\n",
      "File \u001b[1;32m~\\.conda\\envs\\diffnet4\\lib\\site-packages\\sklearn\\base.py:633\u001b[0m, in \u001b[0;36mBaseEstimator._validate_data\u001b[1;34m(self, X, y, reset, validate_separately, cast_to_ndarray, **check_params)\u001b[0m\n\u001b[0;32m    631\u001b[0m         out \u001b[38;5;241m=\u001b[39m X, y\n\u001b[0;32m    632\u001b[0m \u001b[38;5;28;01melif\u001b[39;00m \u001b[38;5;129;01mnot\u001b[39;00m no_val_X \u001b[38;5;129;01mand\u001b[39;00m no_val_y:\n\u001b[1;32m--> 633\u001b[0m     out \u001b[38;5;241m=\u001b[39m check_array(X, input_name\u001b[38;5;241m=\u001b[39m\u001b[38;5;124m\"\u001b[39m\u001b[38;5;124mX\u001b[39m\u001b[38;5;124m\"\u001b[39m, \u001b[38;5;241m*\u001b[39m\u001b[38;5;241m*\u001b[39mcheck_params)\n\u001b[0;32m    634\u001b[0m \u001b[38;5;28;01melif\u001b[39;00m no_val_X \u001b[38;5;129;01mand\u001b[39;00m \u001b[38;5;129;01mnot\u001b[39;00m no_val_y:\n\u001b[0;32m    635\u001b[0m     out \u001b[38;5;241m=\u001b[39m _check_y(y, \u001b[38;5;241m*\u001b[39m\u001b[38;5;241m*\u001b[39mcheck_params)\n",
      "File \u001b[1;32m~\\.conda\\envs\\diffnet4\\lib\\site-packages\\sklearn\\utils\\validation.py:1049\u001b[0m, in \u001b[0;36mcheck_array\u001b[1;34m(array, accept_sparse, accept_large_sparse, dtype, order, copy, force_all_finite, ensure_2d, allow_nd, ensure_min_samples, ensure_min_features, estimator, input_name)\u001b[0m\n\u001b[0;32m   1043\u001b[0m     \u001b[38;5;28;01mraise\u001b[39;00m \u001b[38;5;167;01mValueError\u001b[39;00m(\n\u001b[0;32m   1044\u001b[0m         \u001b[38;5;124m\"\u001b[39m\u001b[38;5;124mFound array with dim \u001b[39m\u001b[38;5;132;01m%d\u001b[39;00m\u001b[38;5;124m. \u001b[39m\u001b[38;5;132;01m%s\u001b[39;00m\u001b[38;5;124m expected <= 2.\u001b[39m\u001b[38;5;124m\"\u001b[39m\n\u001b[0;32m   1045\u001b[0m         \u001b[38;5;241m%\u001b[39m (array\u001b[38;5;241m.\u001b[39mndim, estimator_name)\n\u001b[0;32m   1046\u001b[0m     )\n\u001b[0;32m   1048\u001b[0m \u001b[38;5;28;01mif\u001b[39;00m force_all_finite:\n\u001b[1;32m-> 1049\u001b[0m     \u001b[43m_assert_all_finite\u001b[49m\u001b[43m(\u001b[49m\n\u001b[0;32m   1050\u001b[0m \u001b[43m        \u001b[49m\u001b[43marray\u001b[49m\u001b[43m,\u001b[49m\n\u001b[0;32m   1051\u001b[0m \u001b[43m        \u001b[49m\u001b[43minput_name\u001b[49m\u001b[38;5;241;43m=\u001b[39;49m\u001b[43minput_name\u001b[49m\u001b[43m,\u001b[49m\n\u001b[0;32m   1052\u001b[0m \u001b[43m        \u001b[49m\u001b[43mestimator_name\u001b[49m\u001b[38;5;241;43m=\u001b[39;49m\u001b[43mestimator_name\u001b[49m\u001b[43m,\u001b[49m\n\u001b[0;32m   1053\u001b[0m \u001b[43m        \u001b[49m\u001b[43mallow_nan\u001b[49m\u001b[38;5;241;43m=\u001b[39;49m\u001b[43mforce_all_finite\u001b[49m\u001b[43m \u001b[49m\u001b[38;5;241;43m==\u001b[39;49m\u001b[43m \u001b[49m\u001b[38;5;124;43m\"\u001b[39;49m\u001b[38;5;124;43mallow-nan\u001b[39;49m\u001b[38;5;124;43m\"\u001b[39;49m\u001b[43m,\u001b[49m\n\u001b[0;32m   1054\u001b[0m \u001b[43m    \u001b[49m\u001b[43m)\u001b[49m\n\u001b[0;32m   1056\u001b[0m \u001b[38;5;28;01mif\u001b[39;00m copy:\n\u001b[0;32m   1057\u001b[0m     \u001b[38;5;28;01mif\u001b[39;00m _is_numpy_namespace(xp):\n\u001b[0;32m   1058\u001b[0m         \u001b[38;5;66;03m# only make a copy if `array` and `array_orig` may share memory`\u001b[39;00m\n",
      "File \u001b[1;32m~\\.conda\\envs\\diffnet4\\lib\\site-packages\\sklearn\\utils\\validation.py:126\u001b[0m, in \u001b[0;36m_assert_all_finite\u001b[1;34m(X, allow_nan, msg_dtype, estimator_name, input_name)\u001b[0m\n\u001b[0;32m    123\u001b[0m \u001b[38;5;28;01mif\u001b[39;00m first_pass_isfinite:\n\u001b[0;32m    124\u001b[0m     \u001b[38;5;28;01mreturn\u001b[39;00m\n\u001b[1;32m--> 126\u001b[0m \u001b[43m_assert_all_finite_element_wise\u001b[49m\u001b[43m(\u001b[49m\n\u001b[0;32m    127\u001b[0m \u001b[43m    \u001b[49m\u001b[43mX\u001b[49m\u001b[43m,\u001b[49m\n\u001b[0;32m    128\u001b[0m \u001b[43m    \u001b[49m\u001b[43mxp\u001b[49m\u001b[38;5;241;43m=\u001b[39;49m\u001b[43mxp\u001b[49m\u001b[43m,\u001b[49m\n\u001b[0;32m    129\u001b[0m \u001b[43m    \u001b[49m\u001b[43mallow_nan\u001b[49m\u001b[38;5;241;43m=\u001b[39;49m\u001b[43mallow_nan\u001b[49m\u001b[43m,\u001b[49m\n\u001b[0;32m    130\u001b[0m \u001b[43m    \u001b[49m\u001b[43mmsg_dtype\u001b[49m\u001b[38;5;241;43m=\u001b[39;49m\u001b[43mmsg_dtype\u001b[49m\u001b[43m,\u001b[49m\n\u001b[0;32m    131\u001b[0m \u001b[43m    \u001b[49m\u001b[43mestimator_name\u001b[49m\u001b[38;5;241;43m=\u001b[39;49m\u001b[43mestimator_name\u001b[49m\u001b[43m,\u001b[49m\n\u001b[0;32m    132\u001b[0m \u001b[43m    \u001b[49m\u001b[43minput_name\u001b[49m\u001b[38;5;241;43m=\u001b[39;49m\u001b[43minput_name\u001b[49m\u001b[43m,\u001b[49m\n\u001b[0;32m    133\u001b[0m \u001b[43m\u001b[49m\u001b[43m)\u001b[49m\n",
      "File \u001b[1;32m~\\.conda\\envs\\diffnet4\\lib\\site-packages\\sklearn\\utils\\validation.py:175\u001b[0m, in \u001b[0;36m_assert_all_finite_element_wise\u001b[1;34m(X, xp, allow_nan, msg_dtype, estimator_name, input_name)\u001b[0m\n\u001b[0;32m    158\u001b[0m \u001b[38;5;28;01mif\u001b[39;00m estimator_name \u001b[38;5;129;01mand\u001b[39;00m input_name \u001b[38;5;241m==\u001b[39m \u001b[38;5;124m\"\u001b[39m\u001b[38;5;124mX\u001b[39m\u001b[38;5;124m\"\u001b[39m \u001b[38;5;129;01mand\u001b[39;00m has_nan_error:\n\u001b[0;32m    159\u001b[0m     \u001b[38;5;66;03m# Improve the error message on how to handle missing values in\u001b[39;00m\n\u001b[0;32m    160\u001b[0m     \u001b[38;5;66;03m# scikit-learn.\u001b[39;00m\n\u001b[0;32m    161\u001b[0m     msg_err \u001b[38;5;241m+\u001b[39m\u001b[38;5;241m=\u001b[39m (\n\u001b[0;32m    162\u001b[0m         \u001b[38;5;124mf\u001b[39m\u001b[38;5;124m\"\u001b[39m\u001b[38;5;130;01m\\n\u001b[39;00m\u001b[38;5;132;01m{\u001b[39;00mestimator_name\u001b[38;5;132;01m}\u001b[39;00m\u001b[38;5;124m does not accept missing values\u001b[39m\u001b[38;5;124m\"\u001b[39m\n\u001b[0;32m    163\u001b[0m         \u001b[38;5;124m\"\u001b[39m\u001b[38;5;124m encoded as NaN natively. For supervised learning, you might want\u001b[39m\u001b[38;5;124m\"\u001b[39m\n\u001b[1;32m   (...)\u001b[0m\n\u001b[0;32m    173\u001b[0m         \u001b[38;5;124m\"\u001b[39m\u001b[38;5;124m#estimators-that-handle-nan-values\u001b[39m\u001b[38;5;124m\"\u001b[39m\n\u001b[0;32m    174\u001b[0m     )\n\u001b[1;32m--> 175\u001b[0m \u001b[38;5;28;01mraise\u001b[39;00m \u001b[38;5;167;01mValueError\u001b[39;00m(msg_err)\n",
      "\u001b[1;31mValueError\u001b[0m: Input X contains infinity or a value too large for dtype('float64')."
     ]
    }
   ],
   "source": [
    "import numpy as np\n",
    "from sklearn.decomposition import PCA\n",
    "pca = PCA(n_components=2)\n",
    "pca.fit(cp_responses);\n",
    "\n",
    "x = pca.transform(cp_responses)\n",
    "plt.scatter(x[:, 0], x[:, 1], 12, mag)"
   ]
  }
 ],
 "metadata": {
  "kernelspec": {
   "display_name": "Python 3 (ipykernel)",
   "language": "python",
   "name": "python3"
  },
  "language_info": {
   "codemirror_mode": {
    "name": "ipython",
    "version": 3
   },
   "file_extension": ".py",
   "mimetype": "text/x-python",
   "name": "python",
   "nbconvert_exporter": "python",
   "pygments_lexer": "ipython3",
   "version": "3.10.14"
  }
 },
 "nbformat": 4,
 "nbformat_minor": 5
}
