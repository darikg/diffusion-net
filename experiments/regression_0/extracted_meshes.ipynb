{
 "cells": [
  {
   "cell_type": "code",
   "execution_count": 1,
   "id": "8aa6f506-5a3c-4c28-bd91-0e3b50c71568",
   "metadata": {},
   "outputs": [
    {
     "name": "stderr",
     "output_type": "stream",
     "text": [
      "C:\\Users\\dg\\.conda\\envs\\diffnet4\\lib\\site-packages\\pandas\\core\\computation\\expressions.py:21: UserWarning: Pandas requires version '2.8.4' or newer of 'numexpr' (version '2.7.3' currently installed).\n",
      "  from pandas.core.computation.check import NUMEXPR_INSTALLED\n"
     ]
    }
   ],
   "source": [
    "import pyvista as pv\n",
    "from seagullmesh import Mesh3\n",
    "import numpy as np\n",
    "import pymeshfix\n",
    "from ga_population import *\n"
   ]
  },
  {
   "cell_type": "code",
   "execution_count": 2,
   "id": "a9e7b35e-7030-4d5e-a90e-1516f9b1a366",
   "metadata": {},
   "outputs": [],
   "source": [
    "mesh_reference_file = 'JF0N2N0B_VervetMonkeys_Run_v4_orig_Main.png'\n",
    "tgt_mesh = pv.read(r\"D:\\mesh_extract_work\\VervertMonkey\\JF0N2N0B_VervetMonkeys_Blender\\JF0N2N0B_VervetMonkeys_Blender\\JF0N2N0B_VervetMonkeys_Run_v4_mesh_extraction.ply\")\n",
    "tgt_mesh0 = tgt_mesh.triangulate().clean()\n",
    "cam_pos = (-0.883204, -1.11311, 1.03748)\n",
    "tgt_pos = (0.062604, 0.152099, 0.187549)\n",
    "\n",
    "mesh_reference_file = 'JC0L219A2_GreyTabbyCat_Trot_v4_orig_Main.png'\n",
    "tgt_mesh1 = pv.read(r\"D:\\mesh_extract_work\\GreyTabbyCat\\JC0L219A2_GreyTabbyCat_Blender\\JC0L219A2_GreyTabbyCat_Blender\\JC0L219A2_GreyTabbyCat_Trot_v4.mesh_extraction2.ply\")\n",
    "\n",
    "mesh_reference_file = 'JU0L219A1_SnowshoeHare_Summer_Jump_v4_A_orig_Main.png'\n",
    "tgt_mesh = pv.read(r\"D:\\mesh_extract_work\\SnowshoeHare\\JU0L219A1_SnowshoeHare_Summer_Blender\\JU0L219A1_SnowshoeHare_Summer_Jump_v4_A_mesh_extraction.ply\")\n",
    "tgt_mesh2 = tgt_mesh.triangulate().clean()\n",
    "cam_pos = (-0.526595950126648, -0.8087201118469238, 0.40757232904434204)\n",
    "tgt_pos = (0.019130593165755272, -0.4574986398220062, 0.13628436625003815)"
   ]
  },
  {
   "cell_type": "code",
   "execution_count": 3,
   "id": "4613496e-bef2-4155-a77e-06c2e1ba0c74",
   "metadata": {},
   "outputs": [],
   "source": [
    "meshfix = pymeshfix.MeshFix(tgt_mesh2.points, tgt_mesh2.regular_faces)\n",
    "meshfix.repair()\n",
    "sm = Mesh3.from_pyvista(meshfix.mesh)\n",
    "# diag = sm.bounding_box().diagonal()\n",
    "# sm_wrapped = sm.alpha_wrapping(alpha=diag / 100, offset=diag / 600)\n",
    "\n",
    "# sm = Mesh3.from_pyvista(tgt_mesh2)\n",
    "# diag = sm.bounding_box().diagonal()\n",
    "# sm_wrapped = sm.alpha_wrapping(alpha=diag / 200, offset=diag / 600)\n",
    "# tgt_mesh2_wrapped = sm_wrapped.to_pyvista()"
   ]
  },
  {
   "cell_type": "code",
   "execution_count": null,
   "id": "68f13efe-8870-4fbe-a176-b8903061028e",
   "metadata": {},
   "outputs": [],
   "source": [
    "sm.tri"
   ]
  },
  {
   "cell_type": "markdown",
   "id": "9cbb8041-4a77-431a-8b3b-c2afe50f3187",
   "metadata": {},
   "source": [
    "# TODO SEE IF SEAGULLMESH.FILL_HOLES BUILDS IN DIFFNET ENV"
   ]
  },
  {
   "cell_type": "code",
   "execution_count": 4,
   "id": "a642b234-ff03-4472-9760-18329278db2a",
   "metadata": {},
   "outputs": [],
   "source": [
    "# sm.to_pyvista().plot(show_edges=True)"
   ]
  },
  {
   "cell_type": "code",
   "execution_count": 5,
   "id": "cd40ae9b-31fb-4784-bab3-a90492f9e311",
   "metadata": {},
   "outputs": [],
   "source": [
    "# p = pv.Plotter(shape=(1, 2))\n",
    "# p.subplot(0, 0)\n",
    "# p.add_mesh(tgt_mesh2)\n",
    "# p.subplot(0, 1)\n",
    "# p.add_mesh(tgt_mesh2_wrapped)\n",
    "# p.link_views()\n",
    "# p.show()"
   ]
  },
  {
   "cell_type": "code",
   "execution_count": 6,
   "id": "6808ce87-e7b1-4b2f-bec1-8b423aa43953",
   "metadata": {},
   "outputs": [],
   "source": [
    "# sme = sm.to_pyvista_edges(edge_data=True)\n",
    "# p = pv.Plotter()\n",
    "# p.add_mesh(tgt_mesh2, color='gray', opacity=0.5)\n",
    "# p.add_mesh(sme.extract_cells(sme.cell_data['is_border']), color='red', line_width=2)\n",
    "# p.show()"
   ]
  },
  {
   "cell_type": "code",
   "execution_count": 7,
   "id": "01f1913a-c0bd-4693-b50a-c150a75956ae",
   "metadata": {},
   "outputs": [],
   "source": [
    "# probe_mesh = ProbeMesh(sm_wrapped.to_pyvista(), cam_pos=cam_pos, cam_tgt=tgt_pos)\n",
    "\n",
    "# probe_mesh.render()"
   ]
  }
 ],
 "metadata": {
  "kernelspec": {
   "display_name": "Python 3 (ipykernel)",
   "language": "python",
   "name": "python3"
  },
  "language_info": {
   "codemirror_mode": {
    "name": "ipython",
    "version": 3
   },
   "file_extension": ".py",
   "mimetype": "text/x-python",
   "name": "python",
   "nbconvert_exporter": "python",
   "pygments_lexer": "ipython3",
   "version": "3.10.18"
  }
 },
 "nbformat": 4,
 "nbformat_minor": 5
}
