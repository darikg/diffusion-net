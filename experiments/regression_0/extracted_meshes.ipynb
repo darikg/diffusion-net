{
 "cells": [
  {
   "cell_type": "code",
   "execution_count": 1,
   "id": "02159ddc-8998-40a6-8096-1ec2b7cb5ddd",
   "metadata": {},
   "outputs": [
    {
     "name": "stderr",
     "output_type": "stream",
     "text": [
      "C:\\Users\\dg\\.conda\\envs\\diffnet4\\lib\\site-packages\\pandas\\core\\computation\\expressions.py:21: UserWarning: Pandas requires version '2.8.4' or newer of 'numexpr' (version '2.7.3' currently installed).\n",
      "  from pandas.core.computation.check import NUMEXPR_INSTALLED\n"
     ]
    }
   ],
   "source": [
    "import pyvista as pv\n",
    "from seagullmesh import Mesh3\n",
    "import numpy as np\n",
    "import pymeshfix\n",
    "from ga_population import *\n",
    "import numpy as np\n",
    "from sklearn.decomposition import PCA\n",
    "\n",
    "\n",
    "# pm = ProbeMesh.load(\n",
    "#     mesh_file=r\"D:\\mesh_extract_work\\VervertMonkey\\JF0N2N0B_VervetMonkeys_Blender\\JF0N2N0B_VervetMonkeys_Blender\\JF0N2N0B_VervetMonkeys_Run_v4_mesh_extraction.ply\",\n",
    "#     cam_pos=(-0.883204, -1.11311, 1.03748),\n",
    "#     tgt_pos=(0.062604, 0.152099, 0.187549),\n",
    "#     repair=True,\n",
    "#     fill_holes=False,\n",
    "#     cache=False,\n",
    "#     corpus_index='JC0L219A2_GreyTabbyCat_Trot_v4_orig_Main.png',\n",
    "# )\n",
    "\n",
    "# pm = ProbeMesh.load(\n",
    "#     mesh_file=r\"D:\\mesh_extract_work\\GreyTabbyCat\\JC0L219A2_GreyTabbyCat_Blender\\JC0L219A2_GreyTabbyCat_Blender\\JC0L219A2_GreyTabbyCat_Trot_v4.mesh_extraction2.ply\",\n",
    "#     cam_pos=(-0.19411747, -0.86916119,  0.33897164),\n",
    "#     tgt_pos=( 2.28889287e-04, -3.71107072e-01,  1.14519626e-01),\n",
    "#     repair=True,\n",
    "#     fill_holes=True,\n",
    "#     cache=True,\n",
    "#     corpus_index='JF0N2N0B_VervetMonkeys_Run_v4_orig_Main.png',\n",
    "# ) "
   ]
  },
  {
   "cell_type": "code",
   "execution_count": 2,
   "id": "19a9f02b-1f82-4b13-94a2-10676577223a",
   "metadata": {},
   "outputs": [
    {
     "name": "stdout",
     "output_type": "stream",
     "text": [
      "pymeshfix\n",
      "fill holes\n",
      "alpha wrapping\n"
     ]
    }
   ],
   "source": [
    "pm = ProbeMesh.load(\n",
    "    mesh_file=r\"D:\\mesh_extract_work\\SnowshoeHare\\JU0L219A1_SnowshoeHare_Summer_Blender\\JU0L219A1_SnowshoeHare_Summer_Jump_v4_A_mesh_extraction.ply\",\n",
    "    cam_pos=(-0.52659595, -0.80872011,  0.40757233),\n",
    "    tgt_pos=(0.019130593165755272, -0.4574986398220062, 0.13628436625003815),\n",
    "    repair=True,\n",
    "    fill_holes=True,\n",
    "    cache=True,\n",
    "    recache=True,\n",
    "    corpus_index='JU0L219A1_SnowshoeHare_Summer_Jump_v4_A_orig_Main.png',\n",
    "    wrap=True,\n",
    "    relative_alpha=600,\n",
    "    relative_offset=1000,\n",
    "    simplify_n_faces=3000,\n",
    ") "
   ]
  },
  {
   "cell_type": "code",
   "execution_count": 4,
   "id": "827b1eb9-61fe-45b4-8f3d-11a39565ecdb",
   "metadata": {},
   "outputs": [],
   "source": [
    "models = self = SourceModels.current_trained()"
   ]
  },
  {
   "cell_type": "code",
   "execution_count": 5,
   "id": "7297aca5-dd18-4816-bcae-31eed95a46ed",
   "metadata": {},
   "outputs": [
    {
     "name": "stderr",
     "output_type": "stream",
     "text": [
      "100%|█████████████████████████████████████████████████████████████████████████████████████████████████████████████████████████| 6/6 [00:20<00:00,  3.46s/it]\n"
     ]
    }
   ],
   "source": [
    "weights, = models.get_weights([pm], expt_kwargs=dict(outputs_at='vertices'))"
   ]
  },
  {
   "cell_type": "code",
   "execution_count": 5,
   "id": "7547bc3f-20e8-4876-8334-532d934d46bd",
   "metadata": {},
   "outputs": [
    {
     "data": {
      "application/vnd.jupyter.widget-view+json": {
       "model_id": "326eb955b5474b709df23ad0ef4eb33d",
       "version_major": 2,
       "version_minor": 0
      },
      "text/plain": [
       "Widget(value='<iframe src=\"http://localhost:51479/index.html?ui=P_0x1b216e12bf0_0&reconnect=auto\" class=\"pyvis…"
      ]
     },
     "metadata": {},
     "output_type": "display_data"
    },
    {
     "data": {
      "text/plain": [
       "<pyvista.plotting.plotter.Plotter at 0x1b216e12bf0>"
      ]
     },
     "execution_count": 5,
     "metadata": {},
     "output_type": "execute_result"
    }
   ],
   "source": [
    "pm.plot_weights(weights=weights.pca(), shape=(1, 3), window_size=(1500, 500), scalar_bar=True, titles=['PC1', 'PC2', 'PC3'], render=False)"
   ]
  }
 ],
 "metadata": {
  "kernelspec": {
   "display_name": "Python 3 (ipykernel)",
   "language": "python",
   "name": "python3"
  },
  "language_info": {
   "codemirror_mode": {
    "name": "ipython",
    "version": 3
   },
   "file_extension": ".py",
   "mimetype": "text/x-python",
   "name": "python",
   "nbconvert_exporter": "python",
   "pygments_lexer": "ipython3",
   "version": "3.10.18"
  }
 },
 "nbformat": 4,
 "nbformat_minor": 5
}
