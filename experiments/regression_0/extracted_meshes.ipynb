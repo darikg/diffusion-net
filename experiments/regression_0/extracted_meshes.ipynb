{
 "cells": [
  {
   "cell_type": "code",
   "execution_count": 9,
   "id": "02159ddc-8998-40a6-8096-1ec2b7cb5ddd",
   "metadata": {},
   "outputs": [],
   "source": [
    "import pyvista as pv\n",
    "from seagullmesh import Mesh3\n",
    "import numpy as np\n",
    "import pymeshfix\n",
    "from ga_population import *\n",
    "import numpy as np\n",
    "from sklearn.decomposition import PCA\n",
    "\n",
    "pm_monkey = ProbeMesh.load(\n",
    "    mesh_file=r\"D:\\mesh_extract_work\\VervertMonkey\\JF0N2N0B_VervetMonkeys_Blender\\JF0N2N0B_VervetMonkeys_Blender\\JF0N2N0B_VervetMonkeys_Run_v4_mesh_extraction.ply\",\n",
    "    corpus_index='JC0L219A2_GreyTabbyCat_Trot_v4_orig_Main.png',\n",
    "    cam_pos=(-0.883204, -1.11311, 1.03748),\n",
    "    tgt_pos=(0.062604, 0.152099, 0.187549),\n",
    "    repair=True,\n",
    "    fill_holes=True,\n",
    "    cache=True,\n",
    "    recache=False,\n",
    "    wrap=True,\n",
    "    relative_alpha=600,\n",
    "    relative_offset=1000,\n",
    "    simplify_n_faces=3000,\n",
    ")\n",
    "\n",
    "pm_cat = ProbeMesh.load(\n",
    "    mesh_file=r\"D:\\mesh_extract_work\\GreyTabbyCat\\JC0L219A2_GreyTabbyCat_Blender\\JC0L219A2_GreyTabbyCat_Blender\\JC0L219A2_GreyTabbyCat_Trot_v4.mesh_extraction2.ply\",\n",
    "    corpus_index='JF0N2N0B_VervetMonkeys_Run_v4_orig_Main.png',\n",
    "    cam_pos=(-0.19411747, -0.86916119,  0.33897164),\n",
    "    tgt_pos=( 2.28889287e-04, -3.71107072e-01,  1.14519626e-01),\n",
    "    repair=True,\n",
    "    fill_holes=True,\n",
    "    cache=True,\n",
    "    recache=False,\n",
    "    wrap=True,\n",
    "    relative_alpha=100,\n",
    "    relative_offset=600,\n",
    "    simplify_n_faces=3000,\n",
    ") \n",
    "\n",
    "pm_hare = ProbeMesh.load(\n",
    "    mesh_file=r\"D:\\mesh_extract_work\\SnowshoeHare\\JU0L219A1_SnowshoeHare_Summer_Blender\\JU0L219A1_SnowshoeHare_Summer_Jump_v4_A_mesh_extraction.ply\",\n",
    "    corpus_index='JU0L219A1_SnowshoeHare_Summer_Jump_v4_A_orig_Main.png',\n",
    "    cam_pos=(-0.52659595, -0.80872011,  0.40757233),\n",
    "    tgt_pos=(0.019130593165755272, -0.4574986398220062, 0.13628436625003815),\n",
    "    repair=True,\n",
    "    fill_holes=True,\n",
    "    cache=True,\n",
    "    recache=False,\n",
    "    wrap=True,\n",
    "    relative_alpha=600,\n",
    "    relative_offset=1000,\n",
    "    simplify_n_faces=3000,\n",
    ") \n",
    "\n",
    "pms = [pm_monkey, pm_cat, pm_hare]"
   ]
  },
  {
   "cell_type": "code",
   "execution_count": 8,
   "id": "45123a08-6ded-4d1c-88d5-de5a2154349a",
   "metadata": {},
   "outputs": [],
   "source": [
    "# pm.mesh.plot(show_edges=True)"
   ]
  },
  {
   "cell_type": "code",
   "execution_count": 21,
   "id": "7297aca5-dd18-4816-bcae-31eed95a46ed",
   "metadata": {},
   "outputs": [],
   "source": [
    "# models = self = SourceModels.current_trained()\n",
    "# pm_weights = models.get_weights(pms, expt_kwargs=dict(outputs_at='vertices'))\n",
    "# torch.save(pm_weights, 'temp_weights.pt')\n",
    "\n",
    "pm_weights = torch.load('temp_weights.pt')"
   ]
  },
  {
   "cell_type": "code",
   "execution_count": 15,
   "id": "6d8189e4-e836-4e4a-ac1b-ae235d3c971a",
   "metadata": {},
   "outputs": [
    {
     "data": {
      "application/vnd.jupyter.widget-view+json": {
       "model_id": "9deb331fca1e4c249b0e0297267b45ab",
       "version_major": 2,
       "version_minor": 0
      },
      "text/plain": [
       "Widget(value='<iframe src=\"http://localhost:56009/index.html?ui=P_0x2b2d4633430_7&reconnect=auto\" class=\"pyvis…"
      ]
     },
     "metadata": {},
     "output_type": "display_data"
    },
    {
     "data": {
      "application/vnd.jupyter.widget-view+json": {
       "model_id": "b2ecfb14f298442d8cf5187d188a52a6",
       "version_major": 2,
       "version_minor": 0
      },
      "text/plain": [
       "Widget(value='<iframe src=\"http://localhost:56009/index.html?ui=P_0x2b28cc1dcf0_8&reconnect=auto\" class=\"pyvis…"
      ]
     },
     "metadata": {},
     "output_type": "display_data"
    },
    {
     "data": {
      "application/vnd.jupyter.widget-view+json": {
       "model_id": "f0693d0f83b04c9791d476ad19c2cba0",
       "version_major": 2,
       "version_minor": 0
      },
      "text/plain": [
       "Widget(value='<iframe src=\"http://localhost:56009/index.html?ui=P_0x2b28d481960_9&reconnect=auto\" class=\"pyvis…"
      ]
     },
     "metadata": {},
     "output_type": "display_data"
    }
   ],
   "source": [
    "for pm, weights in zip(pms, pm_weights):\n",
    "    pm.plot_weights(weights=weights.pca(), shape=(1, 3), window_size=(1500, 500), scalar_bar=True, titles=['PC1', 'PC2', 'PC3'], render=False)"
   ]
  },
  {
   "cell_type": "code",
   "execution_count": 25,
   "id": "946e06d6-f2f6-48c4-83d4-f51872163ddd",
   "metadata": {},
   "outputs": [
    {
     "data": {
      "application/vnd.jupyter.widget-view+json": {
       "model_id": "41f8924695074b30b826e0dcf9ccaee0",
       "version_major": 2,
       "version_minor": 0
      },
      "text/plain": [
       "Widget(value='<iframe src=\"http://localhost:56009/index.html?ui=P_0x2b28d2529e0_11&reconnect=auto\" class=\"pyvi…"
      ]
     },
     "metadata": {},
     "output_type": "display_data"
    }
   ],
   "source": [
    "plotter = pv.Plotter(shape=(1, 3))\n",
    "for i, (pm, weights) in enumerate(zip(pms, pm_weights)):\n",
    "    plotter.subplot(0, i)\n",
    "    plotter.camera = pm.camera\n",
    "    plotter.add_mesh(pm.mesh, scalars=weights.pca(), rgb=True)\n",
    "plotter.show()"
   ]
  }
 ],
 "metadata": {
  "kernelspec": {
   "display_name": "Python 3 (ipykernel)",
   "language": "python",
   "name": "python3"
  },
  "language_info": {
   "codemirror_mode": {
    "name": "ipython",
    "version": 3
   },
   "file_extension": ".py",
   "mimetype": "text/x-python",
   "name": "python",
   "nbconvert_exporter": "python",
   "pygments_lexer": "ipython3",
   "version": "3.10.18"
  }
 },
 "nbformat": 4,
 "nbformat_minor": 5
}
