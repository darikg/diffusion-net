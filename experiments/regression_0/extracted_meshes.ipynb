{
 "cells": [
  {
   "cell_type": "code",
   "execution_count": 1,
   "id": "02159ddc-8998-40a6-8096-1ec2b7cb5ddd",
   "metadata": {},
   "outputs": [
    {
     "name": "stderr",
     "output_type": "stream",
     "text": [
      "C:\\Users\\dg\\.conda\\envs\\diffnet4\\lib\\site-packages\\pandas\\core\\computation\\expressions.py:21: UserWarning: Pandas requires version '2.8.4' or newer of 'numexpr' (version '2.7.3' currently installed).\n",
      "  from pandas.core.computation.check import NUMEXPR_INSTALLED\n"
     ]
    }
   ],
   "source": [
    "import pyvista as pv\n",
    "from seagullmesh import Mesh3\n",
    "import numpy as np\n",
    "import pymeshfix\n",
    "from ga_population import *\n",
    "\n",
    "\n",
    "pm = ProbeMesh.load(\n",
    "    mesh_file=r\"D:\\mesh_extract_work\\VervertMonkey\\JF0N2N0B_VervetMonkeys_Blender\\JF0N2N0B_VervetMonkeys_Blender\\JF0N2N0B_VervetMonkeys_Run_v4_mesh_extraction.ply\",\n",
    "    cam_pos=(-0.883204, -1.11311, 1.03748),\n",
    "    tgt_pos=(0.062604, 0.152099, 0.187549),\n",
    "    repair=True,\n",
    "    fill_holes=False,\n",
    "    cache=False,\n",
    "    corpus_index='JF0N2N0B_VervetMonkeys_Run_v4_orig_Main.png',\n",
    ")"
   ]
  },
  {
   "cell_type": "code",
   "execution_count": 2,
   "id": "583b7974-0d37-4b75-9134-1d4ea605ec3d",
   "metadata": {},
   "outputs": [],
   "source": [
    "# mesh_file = r\"D:\\mesh_extract_work\\VervertMonkey\\JF0N2N0B_VervetMonkeys_Blender\\JF0N2N0B_VervetMonkeys_Blender\\JF0N2N0B_VervetMonkeys_Run_v4_mesh_extraction.ply\"\n",
    "# pv_mesh = pv.read(mesh_file).triangulate().clean()\n",
    "\n",
    "# meshfix = pymeshfix.MeshFix(pv_mesh.points, pv_mesh.regular_faces)\n",
    "# meshfix.repair()\n",
    "# pv_mesh = meshfix.mesh\n",
    "\n",
    "# # pv_mesh.plot(show_edges=True)\n",
    "# sm_mesh = Mesh3.from_pyvista(pv_mesh)"
   ]
  },
  {
   "cell_type": "code",
   "execution_count": 3,
   "id": "a9e7b35e-7030-4d5e-a90e-1516f9b1a366",
   "metadata": {},
   "outputs": [],
   "source": [
    "# mesh_reference_file = 'JF0N2N0B_VervetMonkeys_Run_v4_orig_Main.png'\n",
    "# tgt_mesh = pv.read(r\"D:\\mesh_extract_work\\VervertMonkey\\JF0N2N0B_VervetMonkeys_Blender\\JF0N2N0B_VervetMonkeys_Blender\\JF0N2N0B_VervetMonkeys_Run_v4_mesh_extraction.ply\")\n",
    "# tgt_mesh0 = tgt_mesh.triangulate().clean()\n",
    "# cam_pos = (-0.883204, -1.11311, 1.03748)\n",
    "# tgt_pos = (0.062604, 0.152099, 0.187549)\n",
    "\n",
    "# mesh_reference_file = 'JC0L219A2_GreyTabbyCat_Trot_v4_orig_Main.png'\n",
    "# tgt_mesh1 = pv.read(r\"D:\\mesh_extract_work\\GreyTabbyCat\\JC0L219A2_GreyTabbyCat_Blender\\JC0L219A2_GreyTabbyCat_Blender\\JC0L219A2_GreyTabbyCat_Trot_v4.mesh_extraction2.ply\")\n",
    "\n",
    "# mesh_reference_file = 'JU0L219A1_SnowshoeHare_Summer_Jump_v4_A_orig_Main.png'\n",
    "# tgt_mesh = pv.read(r\"D:\\mesh_extract_work\\SnowshoeHare\\JU0L219A1_SnowshoeHare_Summer_Blender\\JU0L219A1_SnowshoeHare_Summer_Jump_v4_A_mesh_extraction.ply\")\n",
    "# tgt_mesh2 = tgt_mesh.triangulate().clean()\n",
    "# cam_pos = (-0.526595950126648, -0.8087201118469238, 0.40757232904434204)\n",
    "# tgt_pos = (0.019130593165755272, -0.4574986398220062, 0.13628436625003815)"
   ]
  },
  {
   "cell_type": "code",
   "execution_count": 4,
   "id": "4613496e-bef2-4155-a77e-06c2e1ba0c74",
   "metadata": {},
   "outputs": [],
   "source": [
    "# meshfix = pymeshfix.MeshFix(tgt_mesh2.points, tgt_mesh2.regular_faces)\n",
    "# meshfix.repair()\n",
    "# sm = Mesh3.from_pyvista(meshfix.mesh)\n",
    "# # diag = sm.bounding_box().diagonal()\n",
    "#     # sm_wrapped = sm.alpha_wrapping(alpha=diag / 100, offset=diag / 600)\n",
    "\n",
    "# # sm = Mesh3.from_pyvista(tgt_mesh2)\n",
    "# # diag = sm.bounding_box().diagonal()\n",
    "# # sm_wrapped = sm.alpha_wrapping(alpha=diag / 200, offset=diag / 600)\n",
    "# # tgt_mesh2_wrapped = sm_wrapped.to_pyvista()"
   ]
  },
  {
   "cell_type": "code",
   "execution_count": 5,
   "id": "827b1eb9-61fe-45b4-8f3d-11a39565ecdb",
   "metadata": {},
   "outputs": [],
   "source": [
    "models = self = SourceModels.current_trained()"
   ]
  },
  {
   "cell_type": "code",
   "execution_count": 6,
   "id": "7297aca5-dd18-4816-bcae-31eed95a46ed",
   "metadata": {},
   "outputs": [
    {
     "name": "stderr",
     "output_type": "stream",
     "text": [
      "100%|█████████████████████████████████████████████████████████████████████████████████████████████████████████████████████████| 6/6 [00:21<00:00,  3.66s/it]\n"
     ]
    },
    {
     "data": {
      "text/plain": [
       "VertexWeights(weights=array([[ 0.36066157,  0.34942096,  0.06562223, ...,  0.4627037 ,\n",
       "         0.05185521,  0.06935756],\n",
       "       [ 0.3311967 ,  0.34336364,  0.0644304 , ...,  0.46948028,\n",
       "         0.05335634,  0.06879214],\n",
       "       [ 0.3173782 ,  0.33545268,  0.06549861, ...,  0.47463843,\n",
       "         0.0546254 ,  0.06766709],\n",
       "       ...,\n",
       "       [-0.0016617 ,  0.34771913,  0.03510686, ...,  0.54426813,\n",
       "         0.18238369,  0.10073061],\n",
       "       [ 0.25014418,  0.22300345,  0.09682684, ...,  0.4302503 ,\n",
       "         0.02435485,  0.05456579],\n",
       "       [ 0.51128983,  0.1305148 ,  0.08488552, ...,  0.52023965,\n",
       "         0.04958928,  0.08333224]], dtype=float32))"
      ]
     },
     "execution_count": 6,
     "metadata": {},
     "output_type": "execute_result"
    }
   ],
   "source": [
    "@dataclass\n",
    "class VertexWeights:\n",
    "    weights: np.ndarray  # (n_verts, n_channels)\n",
    "\n",
    "def get_weights(self, probe_meshes: list[ProbeMesh], expt_kwargs=None):\n",
    "    expt_kwargs = expt_kwargs or dict()\n",
    "\n",
    "    n_model, n_probe = len(self), len(probe_meshes)\n",
    "    weights = np.empty((n_probe, n_model), dtype='O')\n",
    "    \n",
    "    for model_idx, tm in enumerate(tqdm(self.models)):\n",
    "        expt = tm.reader.experiment(**expt_kwargs)\n",
    "        expt.model.eval()\n",
    "        with torch.no_grad():\n",
    "            for probe_idx, pm in enumerate(probe_meshes):\n",
    "                _, preds, _ = expt.load_item(pm.mesh_data())\n",
    "                weights[probe_idx, model_idx] = preds.cpu().numpy()\n",
    "\n",
    "    return [\n",
    "        VertexWeights(np.concatenate(weights[i, :], axis=1))\n",
    "        for i in range(len(probe_meshes))\n",
    "    ]\n",
    "                    \n",
    "weights, = get_weights(models, [pm], expt_kwargs=dict(outputs_at='vertices'))\n",
    "weights"
   ]
  },
  {
   "cell_type": "code",
   "execution_count": 7,
   "id": "a8eb424c-71db-4402-be35-32a89f137b77",
   "metadata": {},
   "outputs": [
    {
     "data": {
      "text/plain": [
       "(2405, 86)"
      ]
     },
     "execution_count": 7,
     "metadata": {},
     "output_type": "execute_result"
    }
   ],
   "source": [
    "weights.weights.shape"
   ]
  },
  {
   "cell_type": "code",
   "execution_count": 8,
   "id": "8e154222-e88b-4417-a6ae-7180533dcb68",
   "metadata": {},
   "outputs": [],
   "source": [
    "import numpy as np\n",
    "from sklearn.decomposition import PCA\n",
    "pca = PCA(n_components=3)\n",
    "w_hat = pca.fit_transform(weights.weights)"
   ]
  },
  {
   "cell_type": "code",
   "execution_count": 9,
   "id": "7b267c95-9458-458b-bbf2-cd07547e5066",
   "metadata": {},
   "outputs": [],
   "source": [
    "w_hat_min = w_hat.min(axis=0)\n",
    "w_hat_max = w_hat.max(axis=0)\n",
    "w_hat_norm = (w_hat - w_hat_min) / (w_hat_max - w_hat_min)\n",
    "\n",
    "pm.mesh.point_data['weights'] = w_hat_norm\n",
    "# pm.mesh.plot(scalars='weights', rgb=True)"
   ]
  },
  {
   "cell_type": "code",
   "execution_count": 32,
   "id": "7547bc3f-20e8-4876-8334-532d934d46bd",
   "metadata": {},
   "outputs": [
    {
     "data": {
      "application/vnd.jupyter.widget-view+json": {
       "model_id": "0d03b24983ed474c9c88069a8cd40613",
       "version_major": 2,
       "version_minor": 0
      },
      "text/plain": [
       "Widget(value='<iframe src=\"http://localhost:50080/index.html?ui=P_0x1c84d095d20_12&reconnect=auto\" class=\"pyvi…"
      ]
     },
     "metadata": {},
     "output_type": "display_data"
    },
    {
     "data": {
      "text/plain": [
       "<pyvista.plotting.plotter.Plotter at 0x1c84d095d20>"
      ]
     },
     "execution_count": 32,
     "metadata": {},
     "output_type": "execute_result"
    }
   ],
   "source": [
    "# pm.plot_weights(weights=w_hat_norm, shape=(1, 3))\n",
    "\n",
    "def plot_weights(\n",
    "        self,\n",
    "        weights: np.ndarray,\n",
    "        shape: tuple[int, int],\n",
    "        plotter: pv.Plotter | None = None,\n",
    "        link_views=True,\n",
    "        render=True,\n",
    "        scalar_bar=True,\n",
    "        titles=None,\n",
    "        **kwargs\n",
    "):\n",
    "    plotter = pv.Plotter(shape=(1, 3), off_screen=render, **kwargs)\n",
    "    plotters = iter_subplots(plotter, shape=shape, link_views=link_views)\n",
    "    if titles is None:\n",
    "        titles = ['' for _ in range(np.prod(shape))]\n",
    "    \n",
    "    \n",
    "    for i, ((row_col, p), ttl) in enumerate(zip(plotters, titles)):\n",
    "        p.add_mesh(self.mesh.copy(), scalars=weights[:, i], show_scalar_bar=i==0 and scalar_bar)\n",
    "        p.camera = self.camera\n",
    "\n",
    "        if ttl:\n",
    "            p.add_title(ttl)\n",
    "\n",
    "    if render:\n",
    "        return PIL.Image.fromarray(plotter.screenshot())  # noqa\n",
    "    else:\n",
    "        plotter.show()\n",
    "        return plotter\n",
    "\n",
    "plot_weights(pm, weights=w_hat_norm, shape=(1, 3), window_size=(1500, 500), scalar_bar=False, titles=['PC1', 'PC2', 'PC3'], render=False)"
   ]
  },
  {
   "cell_type": "code",
   "execution_count": 11,
   "id": "01c89675-4ccc-4c5f-beb1-a2592643f32d",
   "metadata": {},
   "outputs": [],
   "source": [
    "# for (i, j), p in iter_subplots(shape=(1, 3), link_views=True):\n",
    "#     p.add_mesh(pm.mesh.copy(), scalars=w_hat_norm[:, j])"
   ]
  },
  {
   "cell_type": "code",
   "execution_count": null,
   "id": "89b8f481-0d28-4e31-8c11-e3ac13c09970",
   "metadata": {},
   "outputs": [],
   "source": []
  },
  {
   "cell_type": "code",
   "execution_count": 26,
   "id": "4a43cd37-1489-4126-9dcd-5fe74b606d5d",
   "metadata": {},
   "outputs": [
    {
     "data": {
      "application/vnd.jupyter.widget-view+json": {
       "model_id": "544dd276a09d46d99bd4496230def307",
       "version_major": 2,
       "version_minor": 0
      },
      "text/plain": [
       "Widget(value='<iframe src=\"http://localhost:50080/index.html?ui=P_0x1c8657eb820_8&reconnect=auto\" class=\"pyvis…"
      ]
     },
     "metadata": {},
     "output_type": "display_data"
    }
   ],
   "source": [
    "p = pv.Plotter()\n",
    "p.add_title('asdsada')\n",
    "# p.title = 'asdsad'\n",
    "p.show()"
   ]
  }
 ],
 "metadata": {
  "kernelspec": {
   "display_name": "Python 3 (ipykernel)",
   "language": "python",
   "name": "python3"
  },
  "language_info": {
   "codemirror_mode": {
    "name": "ipython",
    "version": 3
   },
   "file_extension": ".py",
   "mimetype": "text/x-python",
   "name": "python",
   "nbconvert_exporter": "python",
   "pygments_lexer": "ipython3",
   "version": "3.10.18"
  }
 },
 "nbformat": 4,
 "nbformat_minor": 5
}
