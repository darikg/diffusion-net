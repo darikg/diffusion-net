{
 "cells": [
  {
   "cell_type": "code",
   "execution_count": 1,
   "id": "11bb7b4e-7fb5-4c1e-a0ac-01aab5eb0407",
   "metadata": {},
   "outputs": [
    {
     "name": "stderr",
     "output_type": "stream",
     "text": [
      "C:\\Users\\dg\\.conda\\envs\\diffnet4\\lib\\site-packages\\pandas\\core\\computation\\expressions.py:21: UserWarning: Pandas requires version '2.8.4' or newer of 'numexpr' (version '2.7.3' currently installed).\n",
      "  from pandas.core.computation.check import NUMEXPR_INSTALLED\n"
     ]
    }
   ],
   "source": [
    "from ga_regression import *\n",
    "from matplotlib import pyplot as plt\n",
    "from functools import partial\n",
    "import PIL\n",
    "import matplotlib as mpl\n",
    "from matplotlib.cm import ScalarMappable\n",
    "from pvutils import iter_subplots\n",
    "from pyvista import PolyData\n",
    "import pyvista as pv\n",
    "from scipy.stats import pearsonr\n",
    "from typing import cast"
   ]
  },
  {
   "cell_type": "code",
   "execution_count": 2,
   "id": "973f16b3-195c-46bf-a91e-d82e74ef8e44",
   "metadata": {},
   "outputs": [],
   "source": [
    "class Summarizer:\n",
    "    def __init__(self, reader, cp_file: Path):\n",
    "        self.reader = reader\n",
    "        self.response_bar_width = 0.025\n",
    "        self.cp_file = cp_file\n",
    "\n",
    "        self.cp_scenes, self.cp_responses, *_ = GaDataset.load_data(\n",
    "            data_file=cp_file,\n",
    "            channel=reader.metadata.channel,\n",
    "            file_mode='render',\n",
    "            spike_window=reader.metadata.spike_window,\n",
    "            weight_error=None,\n",
    "            n_faces=None,\n",
    "            features=None,\n",
    "            n_min_reps=None,\n",
    "        )\n",
    "\n",
    "        self.expt = reader.experiment()\n",
    "        self.dataset = reader.metadata.load_dataset(weights=None, augment=None)\n",
    "\n",
    "    def channel(self, ch_idx: int) -> int:\n",
    "        return self.reader.metadata.channel[ch_idx]\n",
    "\n",
    "    def all_channels(self):\n",
    "        fig, axs = plt.subplot_mosaic(\n",
    "            [['loss', 'loss'],['scatter_train', 'scatter_test']], \n",
    "            constrained_layout=True,\n",
    "            figsize=(10, 8),\n",
    "        )\n",
    "        self.reader.plot_training(ax=axs['loss'])\n",
    "        axs['loss'].legend()\n",
    "        self.reader.scatter_plot(channel=None, axs=[axs['scatter_train'], axs['scatter_test']])\n",
    "        return fig\n",
    "\n",
    "    def channel_scatter(self, ch_idx: int):\n",
    "        fig, axs = plt.subplots(1, 2, figsize=(10, 5))\n",
    "        ch = self.channel(ch_idx)\n",
    "        self.reader.scatter_plot(channel=ch, axs=axs)\n",
    "        fig.suptitle(f'Channel {ch}')\n",
    "        return fig\n",
    "\n",
    "    def img_with_response_bar(self, ax, img, norm_resp: float, bar_color: str):\n",
    "        ax.imshow(img, extent=(0, 1, 0, 1))\n",
    "        ax.axis('off')\n",
    "        rect = mpl.patches.Rectangle(xy=(0, 0), width=self.response_bar_width, height=norm_resp, facecolor=bar_color)\n",
    "        ax.add_patch(rect)\n",
    "\n",
    "    def best_corpus_by_channel(self, ch_idx: int, grid_shape: tuple[int, int] = (2, 5), subfig_sz=4):\n",
    "        ch = self.channel(ch_idx)\n",
    "        ch_responses = self.cp_responses.iloc[:, ch_idx].sort_values(ascending=False)\n",
    "        n = np.prod(grid_shape)\n",
    "        figsize = np.array(grid_shape[::-1]) * subfig_sz\n",
    "        fig, axs = plt.subplots(*grid_shape, figsize=figsize)\n",
    "        \n",
    "        for (stim_id, norm_resp), ax in zip(ch_responses[:n].items(), axs.reshape(-1)):\n",
    "            img_file = self.cp_file.parent / self.cp_scenes.render.loc[stim_id]\n",
    "            img = PIL.Image.open(img_file)\n",
    "            self.img_with_response_bar(ax, img, norm_resp, bar_color='red')\n",
    "\n",
    "        fig.tight_layout()\n",
    "        return fig\n",
    "\n",
    "    def weighted_meshes(self, ch_idx: int, n: int, subfig_sz=4):\n",
    "        ch = self.channel(ch_idx)\n",
    "        obs, preds = self.reader.scatter_data.loc(channel=ch, scene_ids=None)\n",
    "        obs_preds = np.stack([obs, preds], axis=1)\n",
    "        priority_idx = obs_preds.sum(axis=1).argsort()[::-1]\n",
    "        figsize = np.array([n, 2]) * subfig_sz\n",
    "        fig, axs = plt.subplots(2, n, figsize=figsize, squeeze=False)\n",
    "    \n",
    "        for stim_idx, axs_i in zip(priority_idx, axs.T):\n",
    "            p, mesh, render_img, mesh_img = self.expt.load_mesh_img(\n",
    "                dataset=self.dataset, stim_idx=stim_idx, ch_idx=ch_idx, upsample=False, background_color=None)\n",
    "            \n",
    "            for ax, img, norm_resp, bar_color in zip(axs_i, (render_img, mesh_img), obs_preds[stim_idx], ('red', 'blue')):\n",
    "                self.img_with_response_bar(ax, img, norm_resp=norm_resp, bar_color=bar_color)\n",
    "\n",
    "        fig.tight_layout()\n",
    "        return fig\n",
    "\n",
    "# Path(r\"D:\\resynth\\run_20_21\\run00020_resynth\\2025-07-29-15-37-40\\opts_and_metadata.pt\")\n",
    "\n",
    "data_file = Path(r\"D:\\resynth\\run_38_39\\run00038_resynth\\2025-07-30-11-58-55\\opts_and_metadata.pt\")\n",
    "cp_file = Path(r\"D:\\resynth\\run_38_39\\run00039_exported\\run00039_exported.hdf\")\n",
    "idx = 1\n",
    "\n",
    "data_file = Path(r\"D:\\resynth\\run_48_49\\run00048_resynth\\2025-08-03-12-13-13\\opts_and_metadata.pt\")\n",
    "cp_file = Path(r\"D:\\resynth\\run_48_49\\run00049_exported\\run00049_exported.hdf\")\n",
    "idx = 0\n",
    "\n",
    "readers = Readers.from_file(data_file)\n",
    "s = Summarizer(readers[idx], cp_file=cp_file)"
   ]
  },
  {
   "cell_type": "markdown",
   "id": "e0a2cc71-cd66-4419-902b-a04e4c445ef4",
   "metadata": {},
   "source": [
    "# TODO: \n",
    "- also dump hyperparameters log into pdf\n",
    "- how to get the corpus image id? need that to find the population vector"
   ]
  },
  {
   "cell_type": "code",
   "execution_count": 3,
   "id": "36622aa9-ee9f-4e70-b916-36c29b7fb4d2",
   "metadata": {},
   "outputs": [
    {
     "name": "stderr",
     "output_type": "stream",
     "text": [
      "100%|███████████████████████████████████████████████████████████████████████████████████████████████████████████████████████████████████| 15/15 [05:03<00:00, 20.24s/it]\n"
     ]
    }
   ],
   "source": [
    "from matplotlib.backends.backend_pdf import PdfPages\n",
    "\n",
    "name = s.reader.metadata.opts.data_file.stem.split('_')[0]\n",
    "\n",
    "with PdfPages(name + '.pdf') as pdf:\n",
    "    fig = s.all_channels()\n",
    "    fig.suptitle(f\"{name} all channels training\")\n",
    "    pdf.savefig(fig)\n",
    "    plt.close(fig)\n",
    "\n",
    "    for ch_idx in tqdm(range(len(s.reader.metadata.channel))):\n",
    "        ch = s.channel(ch_idx)\n",
    "        fig = s.channel_scatter(ch_idx=ch_idx)\n",
    "        fig.suptitle(f'Channel {ch}')\n",
    "        pdf.savefig(fig)\n",
    "        plt.close(fig)\n",
    "\n",
    "        fig = s.best_corpus_by_channel(ch_idx=ch_idx, grid_shape=(2, 5))\n",
    "        fig.suptitle(f'Channel {ch} best corpus stimuli')\n",
    "        pdf.savefig(fig)\n",
    "        plt.close(fig)\n",
    "        \n",
    "        fig = s.weighted_meshes(ch_idx=ch_idx, n=5)\n",
    "        fig.suptitle(f'Channel {ch} best GA stimuli')\n",
    "        pdf.savefig(fig)\n",
    "        plt.close(fig)"
   ]
  }
 ],
 "metadata": {
  "kernelspec": {
   "display_name": "Python 3 (ipykernel)",
   "language": "python",
   "name": "python3"
  },
  "language_info": {
   "codemirror_mode": {
    "name": "ipython",
    "version": 3
   },
   "file_extension": ".py",
   "mimetype": "text/x-python",
   "name": "python",
   "nbconvert_exporter": "python",
   "pygments_lexer": "ipython3",
   "version": "3.10.14"
  }
 },
 "nbformat": 4,
 "nbformat_minor": 5
}
