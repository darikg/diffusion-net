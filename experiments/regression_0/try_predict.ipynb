{
 "cells": [
  {
   "cell_type": "code",
   "execution_count": 1,
   "id": "086221fc-1b4d-413c-a5c4-a8513394dab2",
   "metadata": {},
   "outputs": [
    {
     "name": "stderr",
     "output_type": "stream",
     "text": [
      "C:\\Users\\dg\\.conda\\envs\\diffnet4\\lib\\site-packages\\pandas\\core\\computation\\expressions.py:21: UserWarning: Pandas requires version '2.8.4' or newer of 'numexpr' (version '2.7.3' currently installed).\n",
      "  from pandas.core.computation.check import NUMEXPR_INSTALLED\n"
     ]
    }
   ],
   "source": [
    "from ga_regression import *\n",
    "import pandas as pd"
   ]
  },
  {
   "cell_type": "code",
   "execution_count": 2,
   "id": "bb34297d-3828-46f3-bf09-334e8b71e433",
   "metadata": {},
   "outputs": [],
   "source": [
    "file = Path(r\"D:\\resynth\\run_38_39\\run00038_resynth\\2025-07-31-13-38-23\\opts_and_metadata.pt\")  # no decay, try lr\n",
    "readers = Readers.from_file(file)\n",
    "reader = readers[0]\n",
    "m = reader.metadata"
   ]
  },
  {
   "cell_type": "code",
   "execution_count": 3,
   "id": "5f9230f1-5179-4877-9c95-d6c755cea0ce",
   "metadata": {},
   "outputs": [],
   "source": [
    "stim = Path(r\"D:\\resynth\\temp\\mesh_evo_run00015_gen0000_lin00\\mesh_evo_run00015_gen0000_lin00.hdf\")\n",
    "df = pd.read_hdf(stim, 'scenes')"
   ]
  },
  {
   "cell_type": "code",
   "execution_count": 14,
   "id": "9b2dce00-1ac2-4cda-8e63-95da9886b147",
   "metadata": {},
   "outputs": [
    {
     "data": {
      "text/plain": [
       "(14, 17, 29, 23, 2, 0, 13, 31, 3, 26, 9, 20, 11, 18)"
      ]
     },
     "execution_count": 14,
     "metadata": {},
     "output_type": "execute_result"
    }
   ],
   "source": [
    "m.channel"
   ]
  },
  {
   "cell_type": "code",
   "execution_count": 44,
   "id": "416d87e3-1610-4570-88ba-a4a7733f90ca",
   "metadata": {},
   "outputs": [
    {
     "data": {
      "text/html": [
       "<div>\n",
       "<style scoped>\n",
       "    .dataframe tbody tr th:only-of-type {\n",
       "        vertical-align: middle;\n",
       "    }\n",
       "\n",
       "    .dataframe tbody tr th {\n",
       "        vertical-align: top;\n",
       "    }\n",
       "\n",
       "    .dataframe thead th {\n",
       "        text-align: right;\n",
       "    }\n",
       "</style>\n",
       "<table border=\"1\" class=\"dataframe\">\n",
       "  <thead>\n",
       "    <tr style=\"text-align: right;\">\n",
       "      <th>channel</th>\n",
       "      <th>14</th>\n",
       "      <th>17</th>\n",
       "      <th>29</th>\n",
       "      <th>23</th>\n",
       "      <th>2</th>\n",
       "      <th>0</th>\n",
       "      <th>13</th>\n",
       "      <th>31</th>\n",
       "      <th>3</th>\n",
       "      <th>26</th>\n",
       "      <th>9</th>\n",
       "      <th>20</th>\n",
       "      <th>11</th>\n",
       "      <th>18</th>\n",
       "    </tr>\n",
       "    <tr>\n",
       "      <th>scene</th>\n",
       "      <th></th>\n",
       "      <th></th>\n",
       "      <th></th>\n",
       "      <th></th>\n",
       "      <th></th>\n",
       "      <th></th>\n",
       "      <th></th>\n",
       "      <th></th>\n",
       "      <th></th>\n",
       "      <th></th>\n",
       "      <th></th>\n",
       "      <th></th>\n",
       "      <th></th>\n",
       "      <th></th>\n",
       "    </tr>\n",
       "  </thead>\n",
       "  <tbody>\n",
       "    <tr>\n",
       "      <th>49</th>\n",
       "      <td>0.0</td>\n",
       "      <td>0.0</td>\n",
       "      <td>0.0</td>\n",
       "      <td>0.0</td>\n",
       "      <td>0.0</td>\n",
       "      <td>0.0</td>\n",
       "      <td>0.0</td>\n",
       "      <td>0.0</td>\n",
       "      <td>0.0</td>\n",
       "      <td>0.0</td>\n",
       "      <td>0.0</td>\n",
       "      <td>0.0</td>\n",
       "      <td>0.0</td>\n",
       "      <td>0.0</td>\n",
       "    </tr>\n",
       "    <tr>\n",
       "      <th>50</th>\n",
       "      <td>0.0</td>\n",
       "      <td>0.0</td>\n",
       "      <td>0.0</td>\n",
       "      <td>0.0</td>\n",
       "      <td>0.0</td>\n",
       "      <td>0.0</td>\n",
       "      <td>0.0</td>\n",
       "      <td>0.0</td>\n",
       "      <td>0.0</td>\n",
       "      <td>0.0</td>\n",
       "      <td>0.0</td>\n",
       "      <td>0.0</td>\n",
       "      <td>0.0</td>\n",
       "      <td>0.0</td>\n",
       "    </tr>\n",
       "  </tbody>\n",
       "</table>\n",
       "</div>"
      ],
      "text/plain": [
       "channel   14   17   29   23   2    0    13   31   3    26   9    20   11   18\n",
       "scene                                                                        \n",
       "49       0.0  0.0  0.0  0.0  0.0  0.0  0.0  0.0  0.0  0.0  0.0  0.0  0.0  0.0\n",
       "50       0.0  0.0  0.0  0.0  0.0  0.0  0.0  0.0  0.0  0.0  0.0  0.0  0.0  0.0"
      ]
     },
     "execution_count": 44,
     "metadata": {},
     "output_type": "execute_result"
    }
   ],
   "source": [
    "df_scenes = GaDataset.load_scenes(data_file=stim, file_mode=m.opts.mesh_file_mode, n_faces=m.n_faces, features=m.input_features)\n",
    "df_responses = pd.DataFrame(\n",
    "    np.zeros((len(df_scenes), len(m.channel))),\n",
    "    index=df_scenes.index,\n",
    "    columns=pd.Index(m.channel, name='channel')\n",
    ")\n",
    "df_responses"
   ]
  },
  {
   "cell_type": "code",
   "execution_count": 41,
   "id": "e71951c2-952c-460b-a6cd-760d7672d695",
   "metadata": {},
   "outputs": [
    {
     "data": {
      "text/plain": [
       "Index([14, 17, 29, 23, 2, 0, 13, 31, 3, 26, 9, 20, 11, 18], dtype='int64', name='what')"
      ]
     },
     "execution_count": 41,
     "metadata": {},
     "output_type": "execute_result"
    }
   ],
   "source": [
    "df_responses.columns.name = 'what'\n",
    "df_responses.columns"
   ]
  },
  {
   "cell_type": "code",
   "execution_count": 17,
   "id": "6734c409-489f-4723-9d7b-111f970a15c5",
   "metadata": {},
   "outputs": [],
   "source": [
    "Path(stim.parent / df.simplified.iloc[0]).exists()\n",
    "Path(stim.parent / 'op_cache').mkdir(exist_ok=True)"
   ]
  },
  {
   "cell_type": "code",
   "execution_count": 19,
   "id": "6aad1cd1-158e-4c1e-9c4a-8805039af7f1",
   "metadata": {},
   "outputs": [],
   "source": [
    "dataset = GaDataset(\n",
    "    df=df_scenes,\n",
    "    responses=df_responses,\n",
    "    root_dir=stim.parent,\n",
    "    k_eig=m.k_eig,\n",
    "    op_cache_dir=stim.parent / 'op_cache',\n",
    "    file_mode=m.opts.mesh_file_mode,\n",
    "    weights=None,\n",
    "    use_visible=m.use_visible,\n",
    "    use_color=m.use_color,\n",
    "    norm_verts=m.norm_verts,\n",
    "    features=m.input_features,\n",
    "    augment=None,\n",
    ")"
   ]
  },
  {
   "cell_type": "code",
   "execution_count": 29,
   "id": "07c4e684-dfd5-48de-b432-4cac22b37e11",
   "metadata": {},
   "outputs": [],
   "source": [
    "loader = DataLoader(dataset, shuffle=False, batch_size=None)\n",
    "expt = reader.experiment()"
   ]
  },
  {
   "cell_type": "code",
   "execution_count": 30,
   "id": "1bc773e0-90f5-45d2-b119-ff8a8f354263",
   "metadata": {},
   "outputs": [
    {
     "name": "stderr",
     "output_type": "stream",
     "text": [
      "100%|███████████████████████████████████████████████████████████████████████████████████████████████████████████████████████████████████████████████████████████████████████████████████████████████████████████████████████████████████████████████████████████████████████████████████████████████████████████████████████████████████████████████████████████████████████████████████████████████| 2/2 [00:00<00:00, 13.79it/s]\n"
     ]
    }
   ],
   "source": [
    "_obs, preds = expt.predict(loader, agg_fn=np.stack)"
   ]
  },
  {
   "cell_type": "code",
   "execution_count": 32,
   "id": "1faae2ef-f79d-43ed-a89a-c88b8a4b6e3e",
   "metadata": {},
   "outputs": [
    {
     "data": {
      "text/plain": [
       "(2, 14)"
      ]
     },
     "execution_count": 32,
     "metadata": {},
     "output_type": "execute_result"
    }
   ],
   "source": [
    "preds.shape  # n_stim, n_ch"
   ]
  }
 ],
 "metadata": {
  "kernelspec": {
   "display_name": "Python 3 (ipykernel)",
   "language": "python",
   "name": "python3"
  },
  "language_info": {
   "codemirror_mode": {
    "name": "ipython",
    "version": 3
   },
   "file_extension": ".py",
   "mimetype": "text/x-python",
   "name": "python",
   "nbconvert_exporter": "python",
   "pygments_lexer": "ipython3",
   "version": "3.10.14"
  }
 },
 "nbformat": 4,
 "nbformat_minor": 5
}
