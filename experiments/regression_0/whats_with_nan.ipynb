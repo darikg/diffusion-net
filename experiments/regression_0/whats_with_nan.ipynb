{
 "cells": [
  {
   "cell_type": "code",
   "execution_count": 1,
   "id": "086221fc-1b4d-413c-a5c4-a8513394dab2",
   "metadata": {},
   "outputs": [
    {
     "name": "stderr",
     "output_type": "stream",
     "text": [
      "C:\\Users\\dg\\.conda\\envs\\diffnet4\\lib\\site-packages\\pandas\\core\\computation\\expressions.py:21: UserWarning: Pandas requires version '2.8.4' or newer of 'numexpr' (version '2.7.3' currently installed).\n",
      "  from pandas.core.computation.check import NUMEXPR_INSTALLED\n"
     ]
    }
   ],
   "source": [
    "from ga_regression import *\n",
    "from matplotlib import pyplot as plt\n",
    "from functools import partial\n",
    "import PIL\n",
    "import matplotlib as mpl\n",
    "from matplotlib.cm import ScalarMappable\n",
    "from pvutils import iter_subplots\n",
    "from pyvista import PolyData\n",
    "import pyvista as pv\n",
    "from scipy.stats import pearsonr"
   ]
  },
  {
   "cell_type": "code",
   "execution_count": 2,
   "id": "bb34297d-3828-46f3-bf09-334e8b71e433",
   "metadata": {},
   "outputs": [],
   "source": [
    "file = Path(r\"D:\\resynth\\run_48_49\\with_dirac_eigs\\2025-07-24-07-07-01\\opts_and_metadata.pt\") # dirac eigs\n",
    "readers = Readers.from_file(file)"
   ]
  },
  {
   "cell_type": "code",
   "execution_count": 15,
   "id": "cc1f6efe-dabf-4edb-b191-13883012ab7e",
   "metadata": {},
   "outputs": [],
   "source": [
    "r0 = readers[0]\n",
    "m0 = r0._meta\n",
    "expt0 = m0.experiment(train_dataset=r0.train_scenes, test_dataset=r0.test_scenes)\n",
    "dataset0, _s, _r = m0.load_dataset(weights=None)\n",
    "d0 = dataset0[0]"
   ]
  },
  {
   "cell_type": "code",
   "execution_count": 16,
   "id": "62026b77-6616-4747-bc88-85bfc1663d7d",
   "metadata": {},
   "outputs": [],
   "source": [
    "r1 = readers[2]\n",
    "m1 = r1._meta\n",
    "expt1 = m1.experiment(train_dataset=r1.train_scenes, test_dataset=r1.test_scenes)\n",
    "dataset1, _s, _r = m1.load_dataset(weights=None)\n",
    "d1 = dataset1[0]"
   ]
  },
  {
   "cell_type": "code",
   "execution_count": 19,
   "id": "319c750c-7541-4e1b-b392-89946f2a4e6a",
   "metadata": {},
   "outputs": [
    {
     "data": {
      "text/plain": [
       "tensor([[-2.3657, -2.8997, -3.5221,  ..., -1.8561, -0.1609,  1.1776],\n",
       "        [-2.3657,  3.9496, -1.1058,  ...,  1.1162, -5.7006,  0.5749],\n",
       "        [-2.3657,  1.4467,  1.9699,  ...,  2.3772, -0.9227,  0.8147],\n",
       "        ...,\n",
       "        [-2.3657, -3.9168, -3.7006,  ...,  0.2445, -0.0057, -0.0116],\n",
       "        [-2.3657,  2.4288,  2.0619,  ...,  0.6390, -0.1948,  0.0199],\n",
       "        [-2.3657,  1.7122,  2.6484,  ..., -0.4518, -0.3237, -0.2428]])"
      ]
     },
     "execution_count": 19,
     "metadata": {},
     "output_type": "execute_result"
    }
   ],
   "source": [
    "d0.evecs"
   ]
  },
  {
   "cell_type": "code",
   "execution_count": 26,
   "id": "194edb08-7dd2-41fa-b7f2-14185f72bc79",
   "metadata": {},
   "outputs": [],
   "source": [
    "self = expt1\n",
    "data = d1\n",
    "\n",
    "verts = data.verts.to(self.device)\n",
    "faces = data.faces.to(self.device)\n",
    "# _frames = frames.to(self.device)\n",
    "mass = data.mass.to(self.device)\n",
    "L = data.L.to(self.device)\n",
    "evals = data.evals.to(self.device)\n",
    "evecs = data.evecs.to(self.device)\n",
    "gradX = data.gradX.to(self.device)\n",
    "gradY = data.gradY.to(self.device)\n",
    "\n",
    "if (weights := data.weight) is not None:\n",
    "    if not isinstance(weights, torch.Tensor):\n",
    "        weights = torch.Tensor(np.asarray(weights))\n",
    "    weights = weights.to(self.device)\n",
    "\n",
    "if not isinstance((labels := data.labels), torch.Tensor):\n",
    "    labels = torch.Tensor(labels)\n",
    "\n",
    "labels = labels.to(self.device)\n",
    "\n",
    "# if augment_random_rotate:\n",
    "#     verts = diffusion_net.utils.random_rotate_points(verts)\n",
    "\n",
    "# Construct features\n",
    "match self.metadata.input_features:\n",
    "    case 'xyz':\n",
    "        features = verts\n",
    "    case 'hks' | ('dirac', _):\n",
    "        features = diffusion_net.geometry.compute_hks_autoscale(evals, evecs, 16)\n",
    "    case x:\n",
    "        raise NotImplementedError(x)"
   ]
  },
  {
   "cell_type": "code",
   "execution_count": 32,
   "id": "17e1c943-cbca-4f3a-8cd0-c56f5d2b0012",
   "metadata": {},
   "outputs": [
    {
     "data": {
      "text/plain": [
       "tensor([1.4047e-01, 1.2470e+02, 0.0000e+00, 1.7497e+02, 2.1494e+02, 0.0000e+00,\n",
       "        0.0000e+00, 2.5141e+02, 3.2346e+02, 0.0000e+00, 3.5712e+02, 0.0000e+00,\n",
       "        3.8952e+02, 0.0000e+00, 4.1862e+02, 0.0000e+00, 4.8330e+02, 0.0000e+00,\n",
       "        5.1190e+02, 0.0000e+00, 5.5946e+02, 0.0000e+00, 6.2478e+02, 0.0000e+00,\n",
       "        6.5338e+02, 6.8160e+02, 7.2002e+02, 0.0000e+00, 0.0000e+00, 7.7261e+02,\n",
       "        0.0000e+00, 0.0000e+00, 8.3865e+02, 8.8123e+02, 0.0000e+00, 9.3330e+02,\n",
       "        0.0000e+00, 9.9684e+02, 1.0442e+03, 0.0000e+00, 1.0802e+03, 0.0000e+00,\n",
       "        1.1288e+03, 0.0000e+00, 1.1862e+03, 1.2245e+03, 0.0000e+00, 1.2785e+03,\n",
       "        0.0000e+00, 0.0000e+00, 1.3597e+03, 1.4108e+03, 0.0000e+00, 1.4920e+03,\n",
       "        0.0000e+00, 1.5430e+03, 0.0000e+00, 1.5978e+03, 0.0000e+00, 1.6757e+03,\n",
       "        0.0000e+00, 0.0000e+00, 1.7719e+03, 1.8315e+03, 0.0000e+00, 0.0000e+00,\n",
       "        1.9429e+03, 0.0000e+00, 1.9942e+03, 0.0000e+00, 2.0803e+03, 0.0000e+00,\n",
       "        2.2161e+03, 0.0000e+00, 2.2742e+03, 0.0000e+00, 2.3416e+03, 0.0000e+00,\n",
       "        2.4287e+03, 2.5006e+03, 0.0000e+00, 2.5858e+03, 0.0000e+00, 2.6521e+03,\n",
       "        0.0000e+00, 2.7939e+03, 0.0000e+00, 2.9158e+03, 2.9627e+03, 0.0000e+00,\n",
       "        0.0000e+00, 3.1421e+03, 0.0000e+00, 3.2090e+03, 0.0000e+00, 3.3683e+03,\n",
       "        3.4303e+03, 0.0000e+00, 0.0000e+00, 3.6091e+03, 3.6979e+03, 0.0000e+00,\n",
       "        3.7678e+03, 0.0000e+00, 3.9129e+03, 4.0328e+03, 0.0000e+00, 0.0000e+00,\n",
       "        4.2597e+03, 4.3590e+03, 0.0000e+00, 0.0000e+00, 4.5252e+03, 0.0000e+00,\n",
       "        4.7054e+03, 4.8141e+03, 0.0000e+00, 0.0000e+00, 5.0882e+03, 0.0000e+00,\n",
       "        5.2821e+03, 0.0000e+00, 5.4311e+03, 0.0000e+00, 5.5459e+03, 0.0000e+00,\n",
       "        5.7244e+03, 0.0000e+00], device='cuda:0')"
      ]
     },
     "execution_count": 32,
     "metadata": {},
     "output_type": "execute_result"
    }
   ],
   "source": [
    "evals.clamp(min=0)"
   ]
  },
  {
   "cell_type": "code",
   "execution_count": 31,
   "id": "3bd49d9c-eed8-49ab-872a-ee51a60b6163",
   "metadata": {},
   "outputs": [
    {
     "data": {
      "text/plain": [
       "tensor(False, device='cuda:0')"
      ]
     },
     "execution_count": 31,
     "metadata": {},
     "output_type": "execute_result"
    }
   ],
   "source": [
    "diffusion_net.geometry.compute_hks_autoscale(evals.abs(), evecs, 16).isinf().any()"
   ]
  }
 ],
 "metadata": {
  "kernelspec": {
   "display_name": "Python 3 (ipykernel)",
   "language": "python",
   "name": "python3"
  },
  "language_info": {
   "codemirror_mode": {
    "name": "ipython",
    "version": 3
   },
   "file_extension": ".py",
   "mimetype": "text/x-python",
   "name": "python",
   "nbconvert_exporter": "python",
   "pygments_lexer": "ipython3",
   "version": "3.10.14"
  }
 },
 "nbformat": 4,
 "nbformat_minor": 5
}
